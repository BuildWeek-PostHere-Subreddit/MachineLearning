{
 "cells": [
  {
   "cell_type": "code",
   "execution_count": 5,
   "metadata": {},
   "outputs": [],
   "source": [
    "import pandas as pd"
   ]
  },
  {
   "cell_type": "code",
   "execution_count": 6,
   "metadata": {},
   "outputs": [
    {
     "data": {
      "text/plain": [
       "(3611, 15)"
      ]
     },
     "execution_count": 6,
     "metadata": {},
     "output_type": "execute_result"
    }
   ],
   "source": [
    "df = pd.read_csv('sfw_data_real.csv').drop(['Unnamed: 0'], axis=1)\n",
    "df.shape"
   ]
  },
  {
   "cell_type": "code",
   "execution_count": 7,
   "metadata": {},
   "outputs": [
    {
     "data": {
      "text/html": [
       "<div>\n",
       "<style scoped>\n",
       "    .dataframe tbody tr th:only-of-type {\n",
       "        vertical-align: middle;\n",
       "    }\n",
       "\n",
       "    .dataframe tbody tr th {\n",
       "        vertical-align: top;\n",
       "    }\n",
       "\n",
       "    .dataframe thead th {\n",
       "        text-align: right;\n",
       "    }\n",
       "</style>\n",
       "<table border=\"1\" class=\"dataframe\">\n",
       "  <thead>\n",
       "    <tr style=\"text-align: right;\">\n",
       "      <th></th>\n",
       "      <th>index</th>\n",
       "      <th>name</th>\n",
       "      <th>title</th>\n",
       "      <th>url</th>\n",
       "      <th>banner_url</th>\n",
       "      <th>subscribers</th>\n",
       "      <th>active_accounts</th>\n",
       "      <th>score</th>\n",
       "      <th>text</th>\n",
       "      <th>word_c</th>\n",
       "      <th>number_letters</th>\n",
       "      <th>shortened_text</th>\n",
       "      <th>tokens</th>\n",
       "      <th>over18</th>\n",
       "      <th>description</th>\n",
       "    </tr>\n",
       "  </thead>\n",
       "  <tbody>\n",
       "    <tr>\n",
       "      <th>0</th>\n",
       "      <td>0</td>\n",
       "      <td>AskReddit</td>\n",
       "      <td>Ask Reddit...</td>\n",
       "      <td>/r/AskReddit/</td>\n",
       "      <td>https://b.thumbs.redditmedia.com/PXt8GnqdYu-9l...</td>\n",
       "      <td>25192935</td>\n",
       "      <td>134018</td>\n",
       "      <td>464436</td>\n",
       "      <td>AskReddit has hit 25,000,000 subscribers! (ins...</td>\n",
       "      <td>11988</td>\n",
       "      <td>70274</td>\n",
       "      <td>AskReddit has hit 25,000,000 subscribers! (ins...</td>\n",
       "      <td>['AskReddit', 'hit', '25,000,000', 'subscriber...</td>\n",
       "      <td>False</td>\n",
       "      <td>r/AskReddit is the place to ask and answer tho...</td>\n",
       "    </tr>\n",
       "    <tr>\n",
       "      <th>1</th>\n",
       "      <td>1</td>\n",
       "      <td>news</td>\n",
       "      <td>All news, US and international.</td>\n",
       "      <td>/r/news/</td>\n",
       "      <td>https://b.thumbs.redditmedia.com/WFgeymV_hst-g...</td>\n",
       "      <td>19267086</td>\n",
       "      <td>36157</td>\n",
       "      <td>718544</td>\n",
       "      <td>Epstein jail guards had been offered plea deal...</td>\n",
       "      <td>3046</td>\n",
       "      <td>21118</td>\n",
       "      <td>Epstein jail guards had been offered plea deal...</td>\n",
       "      <td>['Epstein', 'jail', 'guard', 'offer', 'plea', ...</td>\n",
       "      <td>False</td>\n",
       "      <td>/r/news is: real news articles, primarily but ...</td>\n",
       "    </tr>\n",
       "    <tr>\n",
       "      <th>2</th>\n",
       "      <td>2</td>\n",
       "      <td>funny</td>\n",
       "      <td>funny</td>\n",
       "      <td>/r/funny/</td>\n",
       "      <td>https://a.thumbs.redditmedia.com/9zfV0uAe-z008...</td>\n",
       "      <td>27133349</td>\n",
       "      <td>36266</td>\n",
       "      <td>836722</td>\n",
       "      <td>Subreddit Of The Month [November 2019]: /r/sud...</td>\n",
       "      <td>4456</td>\n",
       "      <td>28082</td>\n",
       "      <td>Subreddit Of The Month [November 2019]: /r/sud...</td>\n",
       "      <td>['Subreddit', 'Month', 'November', '2019', '/r...</td>\n",
       "      <td>False</td>\n",
       "      <td>Welcome to r/Funny: reddit's largest humour de...</td>\n",
       "    </tr>\n",
       "    <tr>\n",
       "      <th>3</th>\n",
       "      <td>3</td>\n",
       "      <td>AmItheAsshole</td>\n",
       "      <td>Am I the Asshole?</td>\n",
       "      <td>/r/AmItheAsshole/</td>\n",
       "      <td>NaN</td>\n",
       "      <td>1498468</td>\n",
       "      <td>27283</td>\n",
       "      <td>266584</td>\n",
       "      <td>AmItheButtface: Where do all the other posts g...</td>\n",
       "      <td>8865</td>\n",
       "      <td>50914</td>\n",
       "      <td>AmItheButtface: Where do all the other posts g...</td>\n",
       "      <td>['amithebuttface', 'post', 'go?AITA', 'out', '...</td>\n",
       "      <td>False</td>\n",
       "      <td>A catharsis for the frustrated moral philosoph...</td>\n",
       "    </tr>\n",
       "    <tr>\n",
       "      <th>4</th>\n",
       "      <td>4</td>\n",
       "      <td>gaming</td>\n",
       "      <td>r/gaming</td>\n",
       "      <td>/r/gaming/</td>\n",
       "      <td>NaN</td>\n",
       "      <td>24119770</td>\n",
       "      <td>27405</td>\n",
       "      <td>1145960</td>\n",
       "      <td>Free Talk Friday!A note about suspected advert...</td>\n",
       "      <td>5837</td>\n",
       "      <td>35651</td>\n",
       "      <td>Free Talk Friday!A note about suspected advert...</td>\n",
       "      <td>['Free', 'Talk', 'Friday!A', 'note', 'suspect'...</td>\n",
       "      <td>False</td>\n",
       "      <td>A subreddit for (almost) anything related to g...</td>\n",
       "    </tr>\n",
       "  </tbody>\n",
       "</table>\n",
       "</div>"
      ],
      "text/plain": [
       "   index           name                            title                url  \\\n",
       "0      0      AskReddit                    Ask Reddit...      /r/AskReddit/   \n",
       "1      1           news  All news, US and international.           /r/news/   \n",
       "2      2          funny                            funny          /r/funny/   \n",
       "3      3  AmItheAsshole               Am I the Asshole?   /r/AmItheAsshole/   \n",
       "4      4         gaming                         r/gaming         /r/gaming/   \n",
       "\n",
       "                                          banner_url  subscribers  \\\n",
       "0  https://b.thumbs.redditmedia.com/PXt8GnqdYu-9l...     25192935   \n",
       "1  https://b.thumbs.redditmedia.com/WFgeymV_hst-g...     19267086   \n",
       "2  https://a.thumbs.redditmedia.com/9zfV0uAe-z008...     27133349   \n",
       "3                                                NaN      1498468   \n",
       "4                                                NaN     24119770   \n",
       "\n",
       "   active_accounts    score  \\\n",
       "0           134018   464436   \n",
       "1            36157   718544   \n",
       "2            36266   836722   \n",
       "3            27283   266584   \n",
       "4            27405  1145960   \n",
       "\n",
       "                                                text  word_c  number_letters  \\\n",
       "0  AskReddit has hit 25,000,000 subscribers! (ins...   11988           70274   \n",
       "1  Epstein jail guards had been offered plea deal...    3046           21118   \n",
       "2  Subreddit Of The Month [November 2019]: /r/sud...    4456           28082   \n",
       "3  AmItheButtface: Where do all the other posts g...    8865           50914   \n",
       "4  Free Talk Friday!A note about suspected advert...    5837           35651   \n",
       "\n",
       "                                      shortened_text  \\\n",
       "0  AskReddit has hit 25,000,000 subscribers! (ins...   \n",
       "1  Epstein jail guards had been offered plea deal...   \n",
       "2  Subreddit Of The Month [November 2019]: /r/sud...   \n",
       "3  AmItheButtface: Where do all the other posts g...   \n",
       "4  Free Talk Friday!A note about suspected advert...   \n",
       "\n",
       "                                              tokens  over18  \\\n",
       "0  ['AskReddit', 'hit', '25,000,000', 'subscriber...   False   \n",
       "1  ['Epstein', 'jail', 'guard', 'offer', 'plea', ...   False   \n",
       "2  ['Subreddit', 'Month', 'November', '2019', '/r...   False   \n",
       "3  ['amithebuttface', 'post', 'go?AITA', 'out', '...   False   \n",
       "4  ['Free', 'Talk', 'Friday!A', 'note', 'suspect'...   False   \n",
       "\n",
       "                                         description  \n",
       "0  r/AskReddit is the place to ask and answer tho...  \n",
       "1  /r/news is: real news articles, primarily but ...  \n",
       "2  Welcome to r/Funny: reddit's largest humour de...  \n",
       "3  A catharsis for the frustrated moral philosoph...  \n",
       "4  A subreddit for (almost) anything related to g...  "
      ]
     },
     "execution_count": 7,
     "metadata": {},
     "output_type": "execute_result"
    }
   ],
   "source": [
    "df.head()"
   ]
  },
  {
   "cell_type": "code",
   "execution_count": 1,
   "metadata": {},
   "outputs": [],
   "source": [
    "# df.columns"
   ]
  },
  {
   "cell_type": "code",
   "execution_count": 2,
   "metadata": {},
   "outputs": [],
   "source": [
    "# df = df[['index', 'name', 'title', 'url', 'subscribers','active_accounts', 'score', 'text']]"
   ]
  },
  {
   "cell_type": "code",
   "execution_count": 3,
   "metadata": {},
   "outputs": [],
   "source": [
    "# df.head()"
   ]
  },
  {
   "cell_type": "code",
   "execution_count": 7,
   "metadata": {},
   "outputs": [],
   "source": [
    "# import spacy\n",
    "# nlp = spacy.load(\"en_core_web_lg\")"
   ]
  },
  {
   "cell_type": "code",
   "execution_count": 8,
   "metadata": {},
   "outputs": [],
   "source": [
    "# df2 = df.iloc[0:1000]"
   ]
  },
  {
   "cell_type": "code",
   "execution_count": 10,
   "metadata": {},
   "outputs": [],
   "source": [
    "# def tokenize(document):\n",
    "    \n",
    "#     doc = nlp(document)\n",
    "    \n",
    "#     return [token.lemma_.strip() for token in doc if (token.is_stop != True) and (token.is_punct != True)]"
   ]
  },
  {
   "cell_type": "code",
   "execution_count": null,
   "metadata": {},
   "outputs": [],
   "source": [
    "# df2['tokens'] = df2['text'].apply(tokenize)"
   ]
  },
  {
   "cell_type": "code",
   "execution_count": 8,
   "metadata": {},
   "outputs": [],
   "source": [
    "from sklearn.feature_extraction.text import TfidfVectorizer"
   ]
  },
  {
   "cell_type": "code",
   "execution_count": 9,
   "metadata": {},
   "outputs": [],
   "source": [
    "tfidf = TfidfVectorizer(stop_words='english', min_df=0.5, max_df=.98, ngram_range=(1,2))"
   ]
  },
  {
   "cell_type": "code",
   "execution_count": 10,
   "metadata": {},
   "outputs": [],
   "source": [
    "dtm = tfidf.fit_transform(df['text']) # Similiar to fit_predict"
   ]
  },
  {
   "cell_type": "code",
   "execution_count": 11,
   "metadata": {},
   "outputs": [],
   "source": [
    "dtm = pd.DataFrame(dtm.todense(), columns=tfidf.get_feature_names())"
   ]
  },
  {
   "cell_type": "code",
   "execution_count": 12,
   "metadata": {},
   "outputs": [],
   "source": [
    "reddit_test = [\"\"\" Few people realize 61.8% of Lambda School students DO NOT have a Bachelor’s Degree.\n",
    "\n",
    "Regardless, in less than a year they’re landing high-paying jobs in lasting careers. \n",
    "\n",
    "They pay nothing upfront, will only make payments at all for two years, and will never pay more than $30k.  \"\"\"]"
   ]
  },
  {
   "cell_type": "code",
   "execution_count": 20,
   "metadata": {},
   "outputs": [],
   "source": [
    "dtm2 = tfidf.transform(reddit_test)\n"
   ]
  },
  {
   "cell_type": "code",
   "execution_count": 24,
   "metadata": {},
   "outputs": [],
   "source": [
    "dtm2 = pd.DataFrame(dtm2.todense(), columns=tfidf.get_feature_names())"
   ]
  },
  {
   "cell_type": "code",
   "execution_count": 28,
   "metadata": {},
   "outputs": [
    {
     "data": {
      "text/plain": [
       "((1, 358), (3611, 358))"
      ]
     },
     "execution_count": 28,
     "metadata": {},
     "output_type": "execute_result"
    }
   ],
   "source": [
    "dtm2.shape,dtm.shape"
   ]
  },
  {
   "cell_type": "code",
   "execution_count": 29,
   "metadata": {},
   "outputs": [],
   "source": [
    "from sklearn.metrics.pairwise import cosine_similarity\n",
    "\n",
    "dist_matrix  = cosine_similarity(dtm,dtm2)"
   ]
  },
  {
   "cell_type": "code",
   "execution_count": 30,
   "metadata": {},
   "outputs": [],
   "source": [
    "results = pd.DataFrame(dist_matrix)"
   ]
  },
  {
   "cell_type": "code",
   "execution_count": 31,
   "metadata": {},
   "outputs": [
    {
     "data": {
      "text/plain": [
       "1316    0.519936\n",
       "1609    0.500547\n",
       "2174    0.486059\n",
       "2675    0.456439\n",
       "1559    0.453435\n",
       "Name: 0, dtype: float64"
      ]
     },
     "execution_count": 31,
     "metadata": {},
     "output_type": "execute_result"
    }
   ],
   "source": [
    "results[0].sort_values(ascending=False)[:5]"
   ]
  },
  {
   "cell_type": "code",
   "execution_count": 34,
   "metadata": {},
   "outputs": [
    {
     "data": {
      "text/plain": [
       "'Teachers'"
      ]
     },
     "execution_count": 34,
     "metadata": {},
     "output_type": "execute_result"
    }
   ],
   "source": [
    "df.iloc[1316]['title']"
   ]
  },
  {
   "cell_type": "code",
   "execution_count": 35,
   "metadata": {},
   "outputs": [
    {
     "data": {
      "text/plain": [
       "'A Reddit for Medical School Students.'"
      ]
     },
     "execution_count": 35,
     "metadata": {},
     "output_type": "execute_result"
    }
   ],
   "source": [
    "df.iloc[1316]['title']"
   ]
  },
  {
   "cell_type": "code",
   "execution_count": 67,
   "metadata": {},
   "outputs": [
    {
     "data": {
      "text/plain": [
       "'Advice for getting into graduate school'"
      ]
     },
     "execution_count": 67,
     "metadata": {},
     "output_type": "execute_result"
    }
   ],
   "source": [
    "df.iloc[2174]['title']"
   ]
  },
  {
   "cell_type": "code",
   "execution_count": 68,
   "metadata": {},
   "outputs": [
    {
     "data": {
      "text/plain": [
       "'GradSchool'"
      ]
     },
     "execution_count": 68,
     "metadata": {},
     "output_type": "execute_result"
    }
   ],
   "source": [
    "df.iloc[2675]['title']"
   ]
  },
  {
   "cell_type": "code",
   "execution_count": 69,
   "metadata": {},
   "outputs": [
    {
     "data": {
      "text/plain": [
       "'SUMMON OPPAI!!!'"
      ]
     },
     "execution_count": 69,
     "metadata": {},
     "output_type": "execute_result"
    }
   ],
   "source": [
    "df.iloc[1559]['title']"
   ]
  },
  {
   "cell_type": "code",
   "execution_count": 70,
   "metadata": {},
   "outputs": [
    {
     "data": {
      "text/plain": [
       "'The DxD Universe: A Light Novel Reading GuideHigh School DxD Prequel SLASHDØG is getting a Manga Adaptation. Will go on sale on December 26 in JapanRias gremory drawn by handRias - padoru by meHow talented is Kiba?Rias Gremory - Xianghua Cosplay (SOUCALIBUR VI - CaS)Could Sona fall for Saji?Manga or Anime?Rias & Rossweisse ❤ Image without the word \"Sample\" and in excellent quality edited by Youssef.DxD stickersHow is the High School DxD Light Novel translation quality?Got four more in the mail today, unfortunately most of these got removed by the seller 😤😤Where will Issei\\'s Soul go when he dies?What caused the great war?Short StoriesIf Ophis had a Nationality as a humanHigh School DxD UK DVD releaseWhere can I buy some merch safely?LF wellwritten ficsSeason 4 dub uncensoredMail call got 3 new stickers in 🔥🔥😬The truth is exposedI\\'ve been making a bunch of these cars lately for other characters and animes and I finally got around to a Rias tribute! Made this in forza horizon and I hope you all like it! It\\'s a \\'02 Skyline GTR :)Friday\\'s Free Talk threadSirzechs and Serafall PTSDQuestion about devil powersHow do teleportation magic seals work?Rias Gremory eating a Pocky [Highschool DxD]What does Ishibumi have against Bova?What\\'s with the post credit scene at the end of season 4?Reddit wants a titleI did a thing...Serafall in the haremDoes season 4 act like 3 didn\\'t happen?High School DxD ClothingWhat should of happened in season 3?News regarding highschool dxdCan Issei become a king? And how?Great Red vs Trihexa? How devastating is it for Earth? LN SpoilersIs there anything lost in the dub?Manga?Quick question about a websiteIn search of a waifuSeason 4!?!?Wallpaper WednesdayNew translatorCould Rias have destroyed P DxD Issei?Rias, Koneko, Asia, & AkenoDo reincranated deils have low birth rates as well?My friend need help translating this part from English to Japanese for a tattooRias GremoryWhat is Issei\\'s goal at this point?Naked AkenoOC | The heavenly demonQuestion on lawn promotionLove itMobage MondayHerem to action ratioMobage Question: What\\'s the difference between the attacking deck and the defending deck and how do you switch them?Sona sotriMy whole body\\'s aching to read Shin DxD vol 3!Social Status of the Underworld if Ise becomes a Devil King?For those who haven\\'t yet bought Season 4 and wish to do soDoes anyone have a link to download all the eyecatches from all seasons including the OVAs in HD?Questions About Highschool DxD Hero Censorship.Do anyone still play this game, and if so how do you get more Dragon Blood?NNN going strong?...BooksWho would win this interesting matchup?Any good Fanfictions outside of Fanfiction.net?Shin Volume 3: Life 3 SpoilersFriday\\'s Free Talk threadKoneko and Rias have fun. Will you join them? (By Gunaretta and Lysande)This carMe in front of Highschool DxD carHigh School DxD Volume 1 - Diabolos of the Old School Building - Light Novel ReviewRegarding Ascalon...Light novelsDevil durability.NSFW VersionCome closer, don\\'t be shy~~ Rias Gremory by Ana ChuuJust finished season 4 and...Wallpaper WednesdayHighschoolDxDWhat actually happened during season 3/BorN?issei x riasJust bought a fully hacked PSP and I think I picked the perfect wallpaper.Eyecatchers helpQuestionsMy Highschool DxD manga collectionWhat\\'s the canon explanation for the perverted trio not being expelled?Rias Gremory showing off her booty~~ by Ana ChuuIs the Belial \"Worthlessness\" the most overpowered bloodline power?Issei and valiIs Issei still considered inexperience?Asia Argento by ADSouto (Links to variants in comments)The ladiesAs an anime only for LN readers: at what point does Koneko start crushing on Issei in the LN?Rias Gremory erocosplay by Ana ChuuMobage MondayAny reason why we didn\\'t get an OVA for DxD Hero?Character Designer for the first three seasons of the Anime Gotou Junji drew IsseixKoneko to celebrate their VA\\'s MarriageOnly me watched this anime for story?How old is Vali?Where can i find the Ex novels epub?Great Red in KyotoHakuryuukou\\'s princessWas it ever explained why Irina and Xenovia were the ones sent to retrieve the Excalibur Fragments in Vol 3?Naruto Dxd crossoverVenelana\\'s TitsFriday\\'s Free Talk threadDo you like some booty? [Koneko and Rias] (By Gunaretta and Lysande)ORC vs Katerea LeviathanRiasWhich outfit do you like best?~ Rias Gremory by Ana Chuuhow im going out for mischief nightSuzaku HimejimaRias Gremory ON/OFF by Ana ChuuPersonality change in season 4Is there a manga adaptation of the seriesWhat is your favourite drink? [Rias] (By Lysande)How far would Rias be willing to go to break her engagement with Riser?SimilarDoes anyone have a mobage card collection for Asia?Wallpaper WednesdayKoneko Dress BreakIchiei needs to take a break[NSFW] I drew RiasAnyway to preorder this life size tapestry still?Future teamsOfficial English Release of Light Novel?I was watching Code geass and I noticed that two Mechas looked familiar. What do yall think? Did this inspire Ishibumi Sensei or Is it original work because if I\\'m right, code geass is from 2006 and HSDXD is around 2008-09?Ichiei Ishibumi Hit 30K Twitter Followers!Question about Highschool DXD HeroMobage MondayWant you guys opinionQuestion on Evil PiecesI drew Irina Shidō, how does it look?What if Hollywood decides to make HighSchool DxD live-action adaptation?Ruruko vs KokabielDoes anyone know if there is an English translation of high school dxd dx 5?Slash/døgLight NovelWTFAbout Akeno in the LNDo you like this position? Rias erocosplay by Ana ChuuGrowth RateAmiAmi Limited High School DxD Original Work Rias Gremory, Akeno Himejima, Koneko Toujou 100cm Wall ScrollFriday\\'s Free Talk threadAnyone know how to download this image in its original size?Who to choose?S4. Yea or NayHarem IsseiRias in LingerieDoes Ishibumi make Issei look weak?Another opportunity to buy Akeno on Amiami 🤝Vali\\'s & Marion\\'s VAs Got MarriedMarvel in dxd universeWallpaper WednesdayRank his waifus (As of V25)Best girl has arrived!! 💕This is the cover image for my Fanfiction \"It Takes a Dragon to Defeat a Kaiju. The picture was commissioned from Leroydoesart on Instagram: https://www.instagram.com/leroydoesart/Do surrender to Rias magnificence? (By Lysande)High School DxD Next Season News/Updates (Plus Slash Dogs)How do I download the mobage card?RecommendationsSerafall Leviathan by Hell-and-HeavensIs Conceptual Boosting possible?To all those Irina lovers out there check out my AMV on her!!Irina by HaryuDanto (link to Fallen Angel variant in comments)Church knowledge of the peerage systemQuick QuestionOC | The two Queens | NSFWRias Illustration by Miyama-Zero for the RPG Mobile Game \"Fantasia Re: Build\" set for 2020Mobage MondayLe Fay Shin DxD 4Any more anime as addictive?PageTeam SlashDøg Fan Art!Rias Gremory Illustration by Miyama-Zero for the Fantasia Bunko Thanksgiving EventShin future novelsHigh School DxD HERO Rias Gremory & Asia Argento LingerieVer. 1/7 Complete Figure with Acrylic Plates| AmiAmi Exclusive BonusUncensored still not out? Why? :/I have lost the website for shin dxd light noveliPhone X Wallpaper?Censored=garbageVenelanaWhere to buy high school dxd Keychains ?Akeno and Issei song?NovelNow that I\\'ve think about it... In Shin DxD vol. 3Who would you consider to be part of the \"Worst Generation\"Time frame for Riser fightMogabe Card BlogspotNeed this artwork.Favorite Scene from the Anime?Opinions on the animeFriday\\'s Free Talk threadmobage gameAny good fanficsSeason 1Source: ShinoharaaGhosts in DxD?Rias eyes or boobs which one is more mesmerizing? (By Lysande)shin volume 2-3?Would you like to take a bath with me?~ Rias erocosplay by Ana ChuuHaremIssei haremWhere can i download all mobage cards ?My shirt came in!!!!AnimeDrew Rias hope you guys like it :3Custom made High School DxD hoodieWallpaper WednesdayWhere can I read the light novels????When did Rias join kuoh academy?Which novels did season 4 adapt?My new Akeno figure arrivedAnnouncement soon?High School DxD Volume DX.1 - Love Song to the Reincarnated Angel ReviewHighschool DXD DX TimelineThe Hacker Fanfiction ChallengeMobage accountCharacterCould Issei still make it to the main stage if he lost?Mobage MondayPassione Studios next seasonIt’s my 25th birthday today!!! 😄🎂🎉LF Fanfics wherre Issei remains HumanDA and blog of the one providing the cards is goneThe best of gremory familyWas visiting Japan last month. Saw the official Rias Dakimakura. Took the plunge into pure culture for best girlRed Dragon Emperor Armor CosplaySo is a $50 Blu-ray the only way for uncensored and subbed of Hero?Wallpaper Wednesday!Rias Gremory wallpaper edited and finished by meAkeno being in control ≖‿≖ [NSFW]questions about Otaku Mode.Mail day!Here is the June/August Close Up RequestManage a haremFriday\\'s Free Talk threadIf issei rose to the top?Rias design prototype 😮 So it would have looked, but finally it was left with the design it currently has 😊❤Axia canvas Art Series \"Fantasia Bunko\" 😊 Rias official frames ❤Himejima Akeno And Kuroka done By Me Renders By MG Anime RendersWould like to hear your opinion on my collection.Saji’s powerVali\\'s promotion?Vali :)Question about English TranslationsFigure News | Asia Argento Lingerie Ver. from High School DxD HEROKuroka and Raynare wallpaper made by me Renders By MG RendersAngels vs GodsMiniboxes \"bushiroad\" of Rias, Akeno, Asia & Koneno 😊❤Will there be more Super Devils than in Ex?SO got me the best birthday present! In the wrong size though, so HE ends up wearing it! Which is even better!She’s finally here!!SuggestionsIf Issei not existOrdered a rep so I can compare differences for a review.Akeno Himejima by ADSouto (Links to variants in comments)seasons of dxdYour Sacred GearAnything Rias can serve you with? (By Lysande)True Lucifer vs Fake LuciferAnyone know when you wont be able to preorder this figure anymore? I\\'m looking to buy but most likely close to when itll releaseMobage MondayFigure News | Rias Gremory Lingerie Ver. from High School DxD HEROFor the Request. This is what it looks insideGot this for looking after some Friends Kids. Definitely Worth itHELPThe 10 strongest currentlyWhere can I watch season 4 uncensoredIssei as Ghost RiderIs Issei Really NOT Talented or a Late Bloomer?HelpI need more space for more random merchQuick Question from a new watcherSo...I did a \"What\\'s your favorite DxD main girl\" pt2Best girl in publicCurious question froma new viewerIssei or ValiRias GremoryWhere can i watch Highschool DXD Hero? (4th season)* POTENTIAL SPOILERS* Made this a while ago, but I figured I’d post this here (JonTron watches DxD)Is there a fandom article or blog post about the absolute ranking of all characters in the HSDxD universe?Finally got my Akeno to match my Koneko. Now I wait for Rias & Asia.What would be best for Raynare and her storylineI\\'m still in shock at how good this show isLight novelsYuuto KibaHigh School DxD Volume 20 - Belial of Career Consultation - Light Novel ReviewAnyone know any good fanfics with akeno x OC/issei? Just want akeno to be main romanceAre reincarnated devils considered to be slaves?Friday\\'s Free Talk threadDo the anime/manga cover all of the light novels?Who is the strongest Longinus user?Just ordered my Limited Koneko Langerie Version!Light novels ReadingDiscovering someone is a reincarnated heroHappy Birthday Kuroka Toujou!Shin dxdHighschool dxd mangaInterest of DragonsWould Issei still have the confidence to date Rias if he didn\\'t have his trauma?The count down beginsHow come in the ln rhe evil pieces and sacred gear names are all in brackets?Got a letter from Kristi Kang!! Voice actor for Irina!!Happy Birthday Kuruka From IshibumiRias and Asia 1/7 Scale from Bellfine up for Preorder now[Spoiler title] TobioLooks familiar [Code Vein]Rias and Asia figure\\'s up for Pre-OrderAsia in negligee(Potential LN spoiler) discussionKristi Kang autograph!!! (Irina)Happy Birthday Irina!Do you think Issei could\\'ve gotten a girlfriend of he didn\\'t meet Rias?Speculation About a Certain Character (spoilers for the fifth arc)Which one is your favorite DxD girl?Issei’s strengthAdding in more sources for the LonginusMobage MondayHappy Birthday Irinia From IshibumiCode Vein + best girl = good timesI was too late.. DXRossweisse and Ravel - Code VeinKoikatsu partyDxD Art collection by LIKAUCErias x isseiTimeline confusionYou know what Issei\\'s favorite swimming style is?Why Doesn\\'t Issei have a figure?!Oh yes! It\\'s preorder time baby!Ghost Rider in dxd universeWhy does Issei get nervous?Rias Gremory \"Fantasia Bunko\" \\U0001f970, image of the plastic miniposter that comes as a gift in the Dragon Magazine of this month 😊The Summer of Love: High School DxD’s Issei Hyoudou: A Cut Above The Rest69 Subscribers on Telegram Special XDAnother opportunity to buy Koneko-chan Figure on AmiAmiQuestion (Spoiler)So I’m doing a dbz sleeve with a couple Easter eggs and this is one of them. I know I’ve been a weeb but what is my level now?Anyone have any idea why Target randomly stopped selling all High School DXD content earlier this month?Friday\\'s Free Talk threadWhite > Reddxd newsCreate a New Balance Breaker for an Existing Sacred GearDoes anyone know where i can watch highschool did season 4 uncensoredIshibumi making Issei an underdog too much?Why did Yuuma kill Issei?shin dxd and high school dxdHigh School DxD HERO 4 Body Pillow Covers of Rias Gremory, Akeno Himejima, Xenovia, & Rossweisse Available at HOBBY STOCK!Le Fay AlbumRias listening to musicIs this really true?Fanfiction search helpRed Dragon EmperorHarem with single girlMobage MondayMake a Character Tier List!I have a question about the light novels, also spoiler warning to those who havent gotten past season 4 of the anime, you\\'ve been warned!Isseis TransformationYou\\'re required to trim down Highschool DxD to a shorter length. What gets left on the cutting room floor?Health Problems??Happy 11th Anniversary of High School DxD! 🎉Discord?Bruh!? what did indra mean at the end?Fanfictions Human SI RecommendationsNeed some help for s3 and s4Light novelCould Kiba have won?When will Highschool DXD end?Carry my KING in armsDid Sitri game happen in Manga. If yes then which volume.Anyone interested n drawing a commission?Was expensive but had to add it to the collectionIs there any character that could have changed the world by a simple choice?Well I guess my love for the show is permanentFriday\\'s Free Talk threadNew Xenovia and Rossweisse Body PillowsWas Ravel underestimating them?Issei’s right armThe illustration for character that you wanna see.I wouldn\\'t say I\\'m a Fan but...Gacha game....Yasaka Illustration ColorKurokaMy newest addition to my roomTrue DxD Volume 2 DiscussionFinally finished Rias!! Last up Issei!!DxD translation site is down?What do you guys think?Look who arrived!DxD LolisYasakaWhat was the worst point in the story for you guys?High School DxD Volume 19 - Durandal of the General Election - Light Novel ReviewYasakaHaven’t Forgotten abt Akeno drawing! - just super busy and haven’t had much time to draw (lingerie + nude version)Kill TrihexaMobage MondayThird super class devilUpdated Video Of The High School DxD Server!How did Irina fall for Issei?Why does DxD girls\\' bra stick to their chestWhich point should I watch until?FanfictionRias infatuation?You guys think there will ever be a show just like this one, but all about flat girls?FiguresDxd FigurinesPower ranking among the youth teamsRias GremoryIs this website trustworthyDrunk RossweisseShin DxD vol.2An idea I might turn into a storySchool has started, eh? (I know, I can do better but don\\'t worry, I already plan to do it better and with Rosseweisse)I don\\'t like any ORC girls except RossweisseHow come Rias didn\\'t notice Issei\\'s trauma?Could Issei beat Crom CrauchShin 2 - Indra’s wordsFriday\\'s Free Talk threadIf Issei was a girl, what would be \"her\" fetish instead of boobsKurokas personality ?🐰Bunny Rias Gremory with mini version🐰 I did a whole costume but had ro pose with my figure ❤️🐇Shin Highschool DxD Volume 3On the realGot Leah Clark\\'s autograph! (Asia) dxd heroWill Issei\\'s harem expand?can anyone tell me the summaries of volumes 11 and 12Trying to find this ficWhat would happen if Issei didn\\'t overcome his trauma?What are some good online stores and stores i can drive to to buy good quality high school dxd figures for cheapDAE find it difficult to root for Issei now?Happy Birthday Princess Kunou! 🎉I have finished my Fanfiction \"It Takes A Dragon to Defeat a Kaiju. I published the last chapterXenovia in a Yukata...sort of (by Ikemura-Hiroichi)scene from dxdA theory about Funimation\\'s use of \"Orphis\"Rias Band aidsWho likes this Neko! Showed up just in time before leaving for work.Xenovia and her Demon Slayer by Joseph CerecedaWhat do you think is the best Marketing Strategy for DxD\\'s Anime Adaptation \"towards the plot\"?Kunou Birthday !I have published the final chapter in my Light Novel \"It Takes a Dragon to Defeat a Kaiju\"Akeno Himejima bikini cosplay by Hidori RoseThe popularity of High School DxDWas Rias really close to beating him?Stumbled across an unknown Rias figure, turns out it’s an exclusive!Happy Birthday Kunou From IshibumiAt last, here it is a mobile wallpaper for youRias New FigureMinecraft server based on High School DxDRias\\' OppaiWhy does Saji randomly summon a dragon is season 4 ep 5?Rias and Issei relationshipCrazy High School DXD Dream I had last night.Sticker arrived today, was surprised with the size.Another edit I madeJust add my second Rias figure to my collection!!Rias collection so farWhere can I buy the DVD\\'s? I can\\'t find them on ebay or amazon.What do you think about my editI drew bunny akenoRias or SonaIs it weridNew to the anime. Does hyodo ever get to suck Rias’s tiddies?Rias and Himejima Wallpaper done by meDo you guys prefer an NSFW or SFW drawing of AkenoGuys Hope You will like it.....( IsseiXRias)I drew Rias Gremory and turned her into nekoComparing Albion and DdraigHimejima Akeno Wallpaper by cam6Finished xenovia finally!! Just Rias and issei left!!Question about manga\"im serious mom, im not watching hentai\".Asia, what do you like about her?A fanfic Idea. Maybe good?New Fic is upFriday\\'s Free Talk threadIsn\\'t it sacreligious that...Irina Shidou - High School DxD Family History/Analysisfull size nsfw banner?Does Rias even care about Issei at all?[Highschool DxD AMV] Heart of a HeroInterview with DxD producer shows hints at the possibility of something new to come in the future!DxD LN box set?Is the power of Vasco Strada too ridiculous?Mobage Monday: 4 Year Anniversary: 14,400+ Cards!Mobage Monday: Yukata, Idols, & AdventuresDoubts about Slash DogKoneko after schoolFights that never happenedShow recommendations?Rias in her sexy school uniformI\\'m curiousSuccubus AkenoWho ever got this tattoo, I would like to buy them a beerDxd merchRias in her underwearRias & Akeno Bunny Body PillowsSeason 4 HuluHIGH SCHOOL DXD HERO ORIGINAL ILLUSTRATION EXTRA LARGE MOUSE PAD: HIMEJIMA AKENORias Gremory portraits setKuroka Wallpaper Done By MeDoes Issei get too many handouts?Discussion on female fightersOC | The Princess of PainVishnu Ten Avatar in DxDClearing up Season 3 to Season 4 for new watchersSenki Zesshou Symphogear and DxD would fit very well together.Shilling for my storyLooky who I picked up from the Post Office today.😁😍Doubts about ThorAny good RayxIse fics?The start of my DXD corner in my studio.Evil PiecesSo I\\'m looking for this wall scroll and need help finding itDdraig or Vali?Craziest DxD collection you’ve seenFriday\\'s Free Talk threadAre there any fanfics where Issei joins the church/Heaven or the Grigori?ORC WebsiteNot seen much of her in this sub thought y\\'all might enjoy this one ;). Waifu.You can forgive that?Create your peerageIssei and Rias mistakesHappy Birthday Elmenhilde From IshibumiCould Akeno×Kiba work?Which King You Choice?Issei\\'s peerageI drew Rias CommissionOpinions on the Shin volume 2 match?RossweisseGot Jad Saxton\\'s Autograph!! (Koneko)Rossweisse (High School DxD) by Deuzlul on DeviantArtA Familiar Couch (Art by Bokuman)What power does Sacred Gear Alphecca Tyrant or Holy Nail entails?Longinus power based on scientific termI’m so confused please help meKuroka Panties SketchMobage Monday: Another Monday Bites The DustMy first High School DxD figure!!Shin Dxd 3 spoilersIs Issei still in Rias\\'s peerage?Which girl had the best countermeasure against Issei\\'s anti-women techniques?Issei haremWhere can I read SHIN Highschool DXD online?Xenovia\\'s rating game performance.Quick question about the light novelKoneko~I dont know where to continue fromKuroka TamamoShin DXD vol 3 sales bad, average or good so far? Any one know?Guts to buy merchI just pre ordered my number 1 waifuAkeno Himejima by AxsensOther ecchi series that can compete with high school dxd?Friday\\'s Free Talk threadSpoilers for Shin vol 3Limited Edition Akeno Black Lingerie Ver. available on AmiAmiHigh School DxD Anime Update: Debunking Fake NewsWhere is the underworld?Akeno hoodieGot my Rias shirt in the mail yesterday!!! 😍😍Rias Gremory Cosplay by Kiki Rose CosplayFinished watching High school DxD all seasonsShin High School DxD Volume 3 Official Released!What\\'s the difference between \"Above Maou class\" and \"God Class\"?New to the LN\\'sShin 3 IsseiHow do you think DxD would end?I love this scene *Irina Best Girl*Realised that if Loki succeeded in starting Ragnarøkkr he would of killed himself!Do you think there will be more heroines?Shin Volume 3 ImagesHas Rias surpassed BxB Issei?Issei the Human Chapter 12 Update!Are the light novels translated to English and how many are there?FanficRias Gremory Bunny Poll Dancing by Hagane.FMobage Monday is prepping for its 4th AnniversarySo[NSFW] I drew Xenovia.High school DxDBest Potential Mothers In DxD?High School DxD Social Media??Gods and BuddhasSummary on each DX 5 short stories any ideaWhy was Rias chosen over Asia?Translated ?Made some Grafyia fanartIsekai DxDRias beautiful 😍😊AssRias Gremory by Butter-TIs there a High School DxD fanfic set in classic fantasy?Heavenly Breast?What is canon?Where would i buy a figure online?12 girls?MarriageIssei Harem Members?Last Volume?DxD japanese manga, 11 volumes.Friday\\'s Free Talk threadAutographed cards by seiyuus of Rias (Yoko Hikasa), Akeno (Ito Shizuka) and Koneko (Ayana Taketatsu) 😊❤what is the english for Maous in the LnIsseix everyoneRias Up-skirtDragon Ball Crossover: Issei wearing Goku\\'s Fighting GiQuestion regarding Issei Future BrideAkeno on BedIrina Shidou in a samurai outfitSexy Rias (Besto waifu) 😊❤A fanficGriselda Quarta (High School DxD) by Deuzlul on DeviantArtJust picked up this cute girl for 90€. Finally got a figure of best girl.A few queries regarding Boosted Gear and Divine DividingWet AkenoAdult Issei drawing requestFinally, my official DxD box arrived from Japan today 😊Gasper Valdi 🦇Traveling in Japan visiting my family and I finally picked up my first two physical copies of the novels!Can anyone help me with thisDXD Self Insert Fanfics RecommendationsFantasia Bunko QuestionIrina Shidou our GoddessRias official postcard :) (DxD Hero)Mobage Monday will come out next week.Irina (DxD Hero BD, American version)Am I too retarded for booksIrina Shidou in a nurse outfit is super cuteQuestion about the seriesIssei Hyoudou isGrayfia x Venelana xxxfanficRias and Akeno uncensored official poster :O (Megami Magazine RX Vol 8)Hero - Season FourRavel :) <3 (DxD Hero BD Vol. 3 \"Japanese edition\")Nice Rias!High School DxD Hero reference material auctionAmiAmi.com: Get the latest High School DxD Merch (Figurines, Pillow Covers, Mouse pad, Wall scrolls and Art Canvas)DxD Girls Bra SizesRias x AkenoRias looking fine afNaughty Rias (Art by HeavenandHell)Is Issei\\'s team is a bit underwhelming?DxD figures of 2019 :) I don\\'t think more figures come out this year. Until 2020 :\\'(Official HSDxD Hero calender 2020 :) Coming soon.About Valerie...My tier list of my favorite characters in my opinionIssei\\'s dress break.Part of my DxD collection 😊Something that always bothered meHow powerful is Issei?Light novelsMy first posterFinally got around to buy all the volumes art work is beautiful and enjoying it so gar even tho i watched all the seasons got to appreciate the source material♡pics of the hot girls in DxD get hundreds of upvotes, how many for our boy in red?DX5Longinus AvatarNew on Reddit :) I love High School DxD! Greetings from MexicoWhen did Matsuda say he was a lolicon?Is Ddraig a trap?Happy Birthday Rossweisse! 💜Ravel\\'s FlawShin DxD vol 2. What do you guys think will happen to Grayfia?Question about Evil Piece System (Spoilers Involved)Rossweisse & Akeno in the KitchenFriday\\'s Free Talk threadDoes ise marry rias ?Happy Birthday Rossweisse!Shin High School Volume 3 Illustration: Rias, Akeno, Lint, and ElmenhildeQuotes from V3Happy Birthday Rossweisse From IshibumiShin DxD vol 3 chaptersShin DxD vol 3: Welsh Dragon vs Crescent Circle Dragon and Life 0 link in JapShin High School DxD Volume 3 Illustration: Ddraig and CromWhy does Issei need to be nerfed so much?New to SeriesGot Brittney Karbowski\\'s autograph!!! (Ravel)Crom, Issei, and Vali’s strength classLint Sellzen & Ouryuu Nakiri coloring updatedWho is your waifu from HS DxD? Mine definitelly Xenovia.I think she is really cute...and I like her fan-service too :DHow Do I get the OVA on HS NEW And BorN?Future story ideas?After season 4Update to the Original Texture PackYour haremLight novelsWhat if DxD StoryWhat if? - Riser x RiasIs there a way?Tell meshould i watch the third and ourth season of High school dxd or just read the LN after watching the second seasonRIAS BEST WAIFU *CHANGE MY MIND*Original Texture Pack (WOP)Even the butt is important. Let us show it tooHow much time to you spend?Ddraig and Albion as KingSometimes we lose all dignityWhat\\'s wrong with Issei and Ravel?\"mature\" Ingvild Leviathan & genderbent Vali Lucifer as Bunny Girls by DeuzlulCan someone tell me?has anything from volume 8 been animated?Mobage Monday: Bikinis!!!!!Isamu Hyoudou (Female Issei) by DeuzlulVolume 2 of True High School DxDHarems and Devil Society?Kinks and positionsHighschool DxD Hero TimelineD No Taidou (Extended Version) - High School DXD OSTat volume 17 having trouble finishing the series. Does it get better again?Did they ?Xenovia\\'s AssTop Ten Strongest Female EquivalentOther episodes?Where would you rate the beings in Supernatural in the DxD universe.Making Issei family strongMy complete DxD collectionWHERE TO START?Happy Birthday Sairaorg Bael! 🦁👑Soo instead of ranting on my opinion on Raynare why dont you Guys Just comment on your favourite Girls and why you Love themExclusive Rias figure just arrived homeWhere can i read volume 25 and beyond?Update! I have recently collected vol.20 and vol.1 of the Deluxe edition. They look beautimusHappy Birthday Sairaorg From IshibumiWill Issei ever be able to surpass Vali?What happens after Rias graduates?Can anybody give me a download link of all eyecatchers so far?Friday\\'s Free Talk threadHow can Xenovia surpass Kiba?If dxd was a world in Kingdom heartsKoneko by chururi(Spoiler) Question please help HELPLight Novel BooksFinished Irina!! Asia your next!!To those Raynare haters/loversRaynare is best Girl in DxDFirst time joining the forum. I have been watching this series since 2013. As of 2019 I can say I own the majority of the High school DxD novel series.( Will update when I get the remaining 5/6So despite all the controversy surrounding Season 3, is it still worth the watch?Wallscrolls/posters?My current DxD shelfHow far does the manga go to, and a good place to read it?OK Reddit doesnt want me to answer the comments in the Raynare Discussion so Here my Overall statementPG Wallpapers\"WHAT A SLOBBERKNOCKER!\" Special thanks to to my friend NarutoRenegado01 for the commission.What exactly happened to Issei when he unlocks Triaina?Does anyone know what’s up with riasDdraig is best waifu, change my mind.A question that I just thought of.What do you dislike about DxD?Now I understand why BorN was so badWho\\'s stronger Rias or Akeno?English Light NovelsHow strong is Gasper?Season 4Season 1 OP Trip Innocent of D English Cover?Mobage Monday: Police!How up to date is the “5583 mobage card collection”?Season 4 QuestionLN vol. 25shin highschool dxd volume 2 ?Ise and his general lack of brains [ DISCUSSION ] [ RANT ]Yasaka 💛Reason behind long breaks?ASIA IS FINALLY GETTING A FIGURINE!!!!!!THICC RiasWhat would be your countermeasures?Anyone feel season 1 & 2 are the best?Hey hey hey I have a question about the end of season 4!!!Heres a challengeLegal Wife vs Childhood FriendAkeno Boobies!Raynare by marissasodopeHow powerful is Issei? (light novel spoilers)What is your favorite illustration of highschool dxd, anime, manga or light novel?Background for my phone?Pronounciation issuesThe Summer of Love: What Fellow Bloggers think of High School DxDDxD version of Tom and Jerry showMail day!She\\'s here. After 3 months and being lost 4 Times by the Post.Can someone explain this paragraph from Vol 11,it really confused me(I recently started reading the LN and English isn\\'t my first language)DxD and FATALITY!!!I Posted Chapter 12 of my Fanfiction \"It Takes a Dragon to Defeat a Kaiju\"Friday\\'s Free Talk threadAnyone know what this HighSchool DxD Vivid thing is?How come Issei didn\\'t recruit anyone?Adult KonekoRias and IsseiAny good koneko wallpapersAkeno DisrobingHighschool dxdBunny Waitress RiasIs the Anime canon to the LN?RiasAkenoAnime like dxd?HelpVA hopes for future seasons.Rias and IsseiLight Novel ReleasesHow good is the dubbing on the light novels?Highschool DxD [AMV] RumorsWhich series is the second one .Question regarding Cao CaoXenovia SweatingCan holy water harm or kill rias gremory and her devil companions? (Akeno, xenoiva, issei etc)Issei fighting his ownMobage Monday: Beach, Kunou, Yasaka, Akeno\\'s Birthday, and Rock & RollHappy Birthday Akeno!!Rias at the beach~ [OC][Album] Hyoudou Nero, Rory Koneko, Ross\\'DoujiDoes anyone know any good rias android wallpapers?Happy Birthday Akeno Himejima! 🖤Le FayThe Heavenly Dragons and the Evil DragonsHappy Birthday Akeno! Enjoy this pic of her with RiasPowerscalingXenovia in a string bikiniHappy Birthday Akeno From IshibumiSeason 4I finally got my first figurine!Akeno at the beachDo the light novels carry on after the events of the show?Animation StyleRias GremoryIs Irina considered the most normal?Question about DxD figurinesOkay I need answers?Is there a manga?Is the Devilishly Good Time bundle still available?Rias or Vali?What would make DxD more enjoyable for you?Ending? How many volumes?Contemplating reading the LNsMy Amazon Prime Day order came today. 😁😅Does dxd have girl fans?Raynare // marissasodope at AX 2019confused & needing some helpHave been reading the LNs, and I\\'m enjoying them, but I must say that I\\'m rather unimpressed by the Boosted Gear.Friday\\'s Free Talk threadHave you ever thought if Riser and Rias really had married?Can you guys help me pick between these 2 figures to get.What might \"Lesser Sacred Gears that resemble\" look like?Badass FanfictionWhat do you think is the best intro/outroRias!!!!My current dxd shelf, im awaiting a few more figures and the blu-rays. And for some reason the only manga im missing is volume 6The deep philosophy of the villiansLight NovelsBluraysHigh School DxD Fanfiction Challenge ForumMeme matching for DxD characterIs Rias stronger than Xenovia?RossweisseLight novel questionANIME NEWS: Producer of DxD HERO wants to make More!| Otaku DeityShe finally arrivedPlace where I can get some Ravel (Hero/Novel style) merch?High school dxd exKyoto questionXenovia SketchMobage Monday: Pink Maids!Akeno Himejima by haganefWhat the heck happened?Why is Her0 still censored?SCP in DxDXenovia Quarta NudeXenovia QuartaWhat would a demon INTJ be like?Issei\\'s base is weakThe wedding dreamwebtoon: Anime UniverseSwim Suit AkenoEro-Angel IrinaDoes anyone have an archives copy of The Heroic Calamity, the original version by AzureStoryTeller (Fanfiction)?Friday\\'s Free Talk threadI need a phone caseIs there a fanfic of the War of the Evil Dragons?Akeno by HaganefWhy was it important for Issei to lose?A really cute chibi Rias From the mangayasaka vs kuramaRed dragon emperor anime expo 2019le fay pendragon sekiryuuteiInterview with High School DxD\\'s Anime Producer Satoshi Motonaga | Anime Expo 2019Issei Hyoudou CosplayNurse AkenoQuestioning Issei\\'s boosted gear.What is the age of Kuroka?Which Dragon in the DXD series is your favorite?Character ability rework 2: Electric BoogalooJust finished the series and holy shit wow. I need more.Koneko\\'s AgeRossweisse Delivery (Art by Haganef)Why can\\'t I find any good rias cosplay?About YasakaWho is among the current top 10 strongest?Fujimi Fantasia Bunko Booster Box Part 2 hallelujah Signed Rias!!ShinRias GremoryCharacter ability reworkWhats up hs dxdIs there anything preventing Kiba from getting more experimental with Sword Birth/Blade Blacksmith?Help with dxd fanfictionAkeno HimejimaI drew RiasAsia!!!!!!Rias Gremory Cosplay by SophieValentineCosLN QuestionOPPAI CAKEI just think this ost is absolutely awesome !Xenovia drawingDxd supernatural powelevels'"
      ]
     },
     "execution_count": 70,
     "metadata": {},
     "output_type": "execute_result"
    }
   ],
   "source": [
    "df.iloc[1559]['text']"
   ]
  },
  {
   "cell_type": "code",
   "execution_count": null,
   "metadata": {},
   "outputs": [],
   "source": []
  }
 ],
 "metadata": {
  "kernelspec": {
   "display_name": "Python 3",
   "language": "python",
   "name": "python3"
  },
  "language_info": {
   "codemirror_mode": {
    "name": "ipython",
    "version": 3
   },
   "file_extension": ".py",
   "mimetype": "text/x-python",
   "name": "python",
   "nbconvert_exporter": "python",
   "pygments_lexer": "ipython3",
   "version": "3.6.8"
  }
 },
 "nbformat": 4,
 "nbformat_minor": 4
}
