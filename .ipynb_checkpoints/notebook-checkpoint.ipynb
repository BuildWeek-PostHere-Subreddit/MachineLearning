{
 "cells": [
  {
   "cell_type": "code",
   "execution_count": 2,
   "metadata": {},
   "outputs": [
    {
     "name": "stdout",
     "output_type": "stream",
     "text": [
      "Collecting praw\n",
      "\u001b[?25l  Downloading https://files.pythonhosted.org/packages/f6/df/b42c0a3b86a43a62a46e5b2f07930230ac7719624800a2052218993fb767/praw-6.4.0-py2.py3-none-any.whl (126kB)\n",
      "\u001b[K    100% |████████████████████████████████| 133kB 15.0MB/s ta 0:00:01\n",
      "\u001b[?25hCollecting prawcore<2.0,>=1.0.1 (from praw)\n",
      "  Downloading https://files.pythonhosted.org/packages/76/b5/ce6282dea45cba6f08a30e25d18e0f3d33277e2c9fcbda75644b8dc0089b/prawcore-1.0.1-py2.py3-none-any.whl\n",
      "Requirement not upgraded as not directly required: websocket-client>=0.54.0 in /home/ec2-user/anaconda3/envs/tensorflow_p36/lib/python3.6/site-packages (from praw) (0.56.0)\n",
      "Collecting update-checker>=0.16 (from praw)\n",
      "  Downloading https://files.pythonhosted.org/packages/17/c9/ab11855af164d03be0ff4fddd4c46a5bd44799a9ecc1770e01a669c21168/update_checker-0.16-py2.py3-none-any.whl\n",
      "Requirement not upgraded as not directly required: requests<3.0,>=2.6.0 in /home/ec2-user/anaconda3/envs/tensorflow_p36/lib/python3.6/site-packages (from prawcore<2.0,>=1.0.1->praw) (2.20.0)\n",
      "Requirement not upgraded as not directly required: six in /home/ec2-user/anaconda3/envs/tensorflow_p36/lib/python3.6/site-packages (from websocket-client>=0.54.0->praw) (1.11.0)\n",
      "Requirement not upgraded as not directly required: urllib3<1.25,>=1.21.1 in /home/ec2-user/anaconda3/envs/tensorflow_p36/lib/python3.6/site-packages (from requests<3.0,>=2.6.0->prawcore<2.0,>=1.0.1->praw) (1.23)\n",
      "Requirement not upgraded as not directly required: chardet<3.1.0,>=3.0.2 in /home/ec2-user/anaconda3/envs/tensorflow_p36/lib/python3.6/site-packages (from requests<3.0,>=2.6.0->prawcore<2.0,>=1.0.1->praw) (3.0.4)\n",
      "Requirement not upgraded as not directly required: certifi>=2017.4.17 in /home/ec2-user/anaconda3/envs/tensorflow_p36/lib/python3.6/site-packages (from requests<3.0,>=2.6.0->prawcore<2.0,>=1.0.1->praw) (2019.6.16)\n",
      "Requirement not upgraded as not directly required: idna<2.8,>=2.5 in /home/ec2-user/anaconda3/envs/tensorflow_p36/lib/python3.6/site-packages (from requests<3.0,>=2.6.0->prawcore<2.0,>=1.0.1->praw) (2.6)\n",
      "Installing collected packages: prawcore, update-checker, praw\n",
      "Successfully installed praw-6.4.0 prawcore-1.0.1 update-checker-0.16\n",
      "\u001b[33mYou are using pip version 10.0.1, however version 19.3.1 is available.\n",
      "You should consider upgrading via the 'pip install --upgrade pip' command.\u001b[0m\n"
     ]
    }
   ],
   "source": [
    "!pip install --upgrade praw"
   ]
  },
  {
   "cell_type": "code",
   "execution_count": 3,
   "metadata": {},
   "outputs": [
    {
     "name": "stdout",
     "output_type": "stream",
     "text": [
      "Collecting python-decouple\n",
      "  Downloading https://files.pythonhosted.org/packages/c7/82/dd20cdca396f58be86c6e710a3958f4a34ca98c5dd3989ee978b6cb9f97e/python-decouple-3.3.tar.gz\n",
      "Building wheels for collected packages: python-decouple\n",
      "  Running setup.py bdist_wheel for python-decouple ... \u001b[?25ldone\n",
      "\u001b[?25h  Stored in directory: /home/ec2-user/.cache/pip/wheels/f4/9b/79/5eec9ea205382552b014e749cb8a2b4ce0d6836a6f4db5ac0c\n",
      "Successfully built python-decouple\n",
      "Installing collected packages: python-decouple\n",
      "Successfully installed python-decouple-3.3\n",
      "\u001b[33mYou are using pip version 10.0.1, however version 19.3.1 is available.\n",
      "You should consider upgrading via the 'pip install --upgrade pip' command.\u001b[0m\n"
     ]
    }
   ],
   "source": [
    "!pip install python-decouple"
   ]
  },
  {
   "cell_type": "code",
   "execution_count": 4,
   "metadata": {},
   "outputs": [],
   "source": [
    "import pandas as pd\n",
    "import praw\n",
    "from decouple import config"
   ]
  },
  {
   "cell_type": "code",
   "execution_count": 5,
   "metadata": {},
   "outputs": [],
   "source": [
    "\n",
    "redd = praw.Reddit(client_id='wK72_Nr8YEKvog', client_secret='jjOlKfXGylsXc7SuVRTqiTbVuLE', username='johanaluna', password='Lulu4527.', user_agent='testagent')"
   ]
  },
  {
   "cell_type": "code",
   "execution_count": null,
   "metadata": {},
   "outputs": [],
   "source": []
  },
  {
   "cell_type": "code",
   "execution_count": 6,
   "metadata": {},
   "outputs": [],
   "source": [
    "df = pd.read_csv('subreddit_names.csv').drop(['Unnamed: 0'], axis=1)"
   ]
  },
  {
   "cell_type": "code",
   "execution_count": 7,
   "metadata": {},
   "outputs": [
    {
     "data": {
      "text/plain": [
       "(4990, 1)"
      ]
     },
     "execution_count": 7,
     "metadata": {},
     "output_type": "execute_result"
    }
   ],
   "source": [
    "df.shape"
   ]
  },
  {
   "cell_type": "code",
   "execution_count": 8,
   "metadata": {},
   "outputs": [],
   "source": [
    "def df_range(mindf,maxdf, df):\n",
    "    req_list = df.values[mindf:maxdf].tolist()\n",
    "    return(req_list)\n"
   ]
  },
  {
   "cell_type": "code",
   "execution_count": 9,
   "metadata": {},
   "outputs": [],
   "source": [
    "names = df_range(1723, 3000, df)"
   ]
  },
  {
   "cell_type": "code",
   "execution_count": 10,
   "metadata": {},
   "outputs": [],
   "source": [
    "df = pd.DataFrame([], columns=['name', 'title', 'url', 'banner_url', 'subscribers', 'active_accounts', 'score', 'text'])\n"
   ]
  },
  {
   "cell_type": "code",
   "execution_count": 11,
   "metadata": {},
   "outputs": [
    {
     "name": "stdout",
     "output_type": "stream",
     "text": [
      "Call 0 of 4990\n",
      "Call 20 of 4990\n",
      "Call 40 of 4990\n",
      "Call 60 of 4990\n",
      "Call 80 of 4990\n",
      "Call 100 of 4990\n",
      "Call 120 of 4990\n",
      "Call 140 of 4990\n",
      "Call 160 of 4990\n",
      "Call 180 of 4990\n",
      "Call 200 of 4990\n",
      "Call 220 of 4990\n",
      "Call 240 of 4990\n",
      "Call 260 of 4990\n",
      "Call 280 of 4990\n",
      "Call 300 of 4990\n",
      "Call 320 of 4990\n",
      "Call 340 of 4990\n",
      "Call 360 of 4990\n",
      "Call 380 of 4990\n",
      "Call 400 of 4990\n",
      "Call 420 of 4990\n",
      "Call 440 of 4990\n",
      "Call 460 of 4990\n",
      "Call 480 of 4990\n",
      "Call 500 of 4990\n",
      "Call 520 of 4990\n",
      "Call 540 of 4990\n",
      "Call 560 of 4990\n",
      "Call 580 of 4990\n",
      "Call 600 of 4990\n",
      "Call 620 of 4990\n",
      "Call 640 of 4990\n",
      "Call 660 of 4990\n",
      "Call 680 of 4990\n",
      "Call 700 of 4990\n",
      "Call 720 of 4990\n",
      "Call 740 of 4990\n",
      "Call 760 of 4990\n",
      "Call 780 of 4990\n",
      "Call 800 of 4990\n",
      "Call 820 of 4990\n",
      "Call 840 of 4990\n",
      "Call 860 of 4990\n",
      "Call 880 of 4990\n",
      "Call 900 of 4990\n",
      "Call 920 of 4990\n",
      "Call 940 of 4990\n",
      "Call 960 of 4990\n",
      "Call 980 of 4990\n",
      "Call 1000 of 4990\n",
      "Call 1020 of 4990\n",
      "Call 1040 of 4990\n",
      "Call 1060 of 4990\n",
      "Call 1080 of 4990\n",
      "Call 1100 of 4990\n",
      "Call 1120 of 4990\n",
      "Call 1140 of 4990\n",
      "Call 1160 of 4990\n",
      "Call 1180 of 4990\n",
      "Call 1200 of 4990\n",
      "Call 1220 of 4990\n",
      "Call 1240 of 4990\n",
      "Call 1260 of 4990\n"
     ]
    }
   ],
   "source": [
    "counter = 0\n",
    "for i in names:\n",
    "    name = i[0]\n",
    "    sub = redd.subreddit(name)\n",
    "    title = sub.title\n",
    "    url = sub.url\n",
    "    banner_url = sub.banner_img\n",
    "    subscribers = sub.subscribers\n",
    "    active_accounts = sub.accounts_active\n",
    "    score = 0\n",
    "    data = sub.hot(limit=1000)\n",
    "    text = ''\n",
    "    for words in data:\n",
    "        text = text + words.title\n",
    "        score = score + words.score\n",
    "    dfa = pd.DataFrame([[name, title, url, banner_url, subscribers, \n",
    "                         active_accounts, score, text]], \n",
    "                         columns=['name', 'title', 'url', 'banner_url', \n",
    "                                  'subscribers', 'active_accounts', 'score', \n",
    "                                  'text'])\n",
    "    df = df.append(dfa)\n",
    "    if counter % 20 == 0:\n",
    "        print(f'Call {counter} of 4990')\n",
    "    counter = counter + 1\n",
    "    df.to_csv('all_data_2.csv')"
   ]
  },
  {
   "cell_type": "code",
   "execution_count": 12,
   "metadata": {},
   "outputs": [],
   "source": [
    "df_total2= pd.read_csv('all_data_2.csv')"
   ]
  },
  {
   "cell_type": "code",
   "execution_count": 13,
   "metadata": {},
   "outputs": [
    {
     "data": {
      "text/plain": [
       "(1277, 9)"
      ]
     },
     "execution_count": 13,
     "metadata": {},
     "output_type": "execute_result"
    }
   ],
   "source": [
    "df_total2.shape"
   ]
  },
  {
   "cell_type": "code",
   "execution_count": null,
   "metadata": {},
   "outputs": [],
   "source": []
  }
 ],
 "metadata": {
  "kernelspec": {
   "display_name": "conda_tensorflow_p36",
   "language": "python",
   "name": "conda_tensorflow_p36"
  },
  "language_info": {
   "codemirror_mode": {
    "name": "ipython",
    "version": 3
   },
   "file_extension": ".py",
   "mimetype": "text/x-python",
   "name": "python",
   "nbconvert_exporter": "python",
   "pygments_lexer": "ipython3",
   "version": "3.6.5"
  }
 },
 "nbformat": 4,
 "nbformat_minor": 4
}
