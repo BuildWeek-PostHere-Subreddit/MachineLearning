{
 "cells": [
  {
   "cell_type": "markdown",
   "metadata": {},
   "source": [
    "### LOADING LIBRARIES"
   ]
  },
  {
   "cell_type": "code",
   "execution_count": 2,
   "metadata": {},
   "outputs": [],
   "source": [
    "import pandas as pd\n",
    "import numpy as np\n",
    "import seaborn as sns\n",
    "import matplotlib.pyplot as plt\n",
    "\n",
    "\n",
    "from sklearn.feature_extraction.text import CountVectorizer\n",
    "from sklearn.naive_bayes import MultinomialNB\n",
    "from sklearn.model_selection import train_test_split, GridSearchCV\n",
    "from sklearn.ensemble import RandomForestClassifier\n",
    "from sklearn.tree import DecisionTreeClassifier\n",
    "from sklearn.linear_model import LogisticRegression\n",
    "from sklearn.metrics import confusion_matrix\n",
    "from sklearn.neighbors import KNeighborsClassifier\n",
    "\n",
    "# import nltk\n",
    "# from nltk.stem import WordNetLemmatizer\n",
    "# lemmatizer = WordNetLemmatizer()\n",
    "\n",
    "%matplotlib inline"
   ]
  },
  {
   "cell_type": "code",
   "execution_count": 23,
   "metadata": {},
   "outputs": [],
   "source": [
    "# !pip install spacy"
   ]
  },
  {
   "cell_type": "code",
   "execution_count": 4,
   "metadata": {},
   "outputs": [],
   "source": [
    "import spacy\n",
    "from spacy.tokenizer import Tokenizer"
   ]
  },
  {
   "cell_type": "markdown",
   "metadata": {},
   "source": [
    "### LOADING DATA"
   ]
  },
  {
   "cell_type": "code",
   "execution_count": 5,
   "metadata": {},
   "outputs": [
    {
     "data": {
      "text/plain": [
       "(4917, 9)"
      ]
     },
     "execution_count": 5,
     "metadata": {},
     "output_type": "execute_result"
    }
   ],
   "source": [
    "df= pd.read_csv('text_data.csv').drop('Unnamed: 0', axis=1)\n",
    "df.shape"
   ]
  },
  {
   "cell_type": "code",
   "execution_count": 6,
   "metadata": {},
   "outputs": [
    {
     "data": {
      "text/html": [
       "<div>\n",
       "<style scoped>\n",
       "    .dataframe tbody tr th:only-of-type {\n",
       "        vertical-align: middle;\n",
       "    }\n",
       "\n",
       "    .dataframe tbody tr th {\n",
       "        vertical-align: top;\n",
       "    }\n",
       "\n",
       "    .dataframe thead th {\n",
       "        text-align: right;\n",
       "    }\n",
       "</style>\n",
       "<table border=\"1\" class=\"dataframe\">\n",
       "  <thead>\n",
       "    <tr style=\"text-align: right;\">\n",
       "      <th></th>\n",
       "      <th>name</th>\n",
       "      <th>title</th>\n",
       "      <th>url</th>\n",
       "      <th>banner_url</th>\n",
       "      <th>subscribers</th>\n",
       "      <th>active_accounts</th>\n",
       "      <th>score</th>\n",
       "      <th>text</th>\n",
       "      <th>word_c</th>\n",
       "    </tr>\n",
       "  </thead>\n",
       "  <tbody>\n",
       "    <tr>\n",
       "      <th>0</th>\n",
       "      <td>AskReddit</td>\n",
       "      <td>Ask Reddit...</td>\n",
       "      <td>/r/AskReddit/</td>\n",
       "      <td>https://b.thumbs.redditmedia.com/PXt8GnqdYu-9l...</td>\n",
       "      <td>25192935</td>\n",
       "      <td>134018</td>\n",
       "      <td>464436</td>\n",
       "      <td>AskReddit has hit 25,000,000 subscribers! (ins...</td>\n",
       "      <td>11988</td>\n",
       "    </tr>\n",
       "    <tr>\n",
       "      <th>1</th>\n",
       "      <td>news</td>\n",
       "      <td>All news, US and international.</td>\n",
       "      <td>/r/news/</td>\n",
       "      <td>https://b.thumbs.redditmedia.com/WFgeymV_hst-g...</td>\n",
       "      <td>19267086</td>\n",
       "      <td>36157</td>\n",
       "      <td>718544</td>\n",
       "      <td>Epstein jail guards had been offered plea deal...</td>\n",
       "      <td>3046</td>\n",
       "    </tr>\n",
       "    <tr>\n",
       "      <th>2</th>\n",
       "      <td>funny</td>\n",
       "      <td>funny</td>\n",
       "      <td>/r/funny/</td>\n",
       "      <td>https://a.thumbs.redditmedia.com/9zfV0uAe-z008...</td>\n",
       "      <td>27133349</td>\n",
       "      <td>36266</td>\n",
       "      <td>836722</td>\n",
       "      <td>Subreddit Of The Month [November 2019]: /r/sud...</td>\n",
       "      <td>4456</td>\n",
       "    </tr>\n",
       "    <tr>\n",
       "      <th>3</th>\n",
       "      <td>AmItheAsshole</td>\n",
       "      <td>Am I the Asshole?</td>\n",
       "      <td>/r/AmItheAsshole/</td>\n",
       "      <td>NaN</td>\n",
       "      <td>1498468</td>\n",
       "      <td>27283</td>\n",
       "      <td>266584</td>\n",
       "      <td>AmItheButtface: Where do all the other posts g...</td>\n",
       "      <td>8865</td>\n",
       "    </tr>\n",
       "    <tr>\n",
       "      <th>4</th>\n",
       "      <td>gaming</td>\n",
       "      <td>r/gaming</td>\n",
       "      <td>/r/gaming/</td>\n",
       "      <td>NaN</td>\n",
       "      <td>24119770</td>\n",
       "      <td>27405</td>\n",
       "      <td>1145960</td>\n",
       "      <td>Free Talk Friday!A note about suspected advert...</td>\n",
       "      <td>5837</td>\n",
       "    </tr>\n",
       "  </tbody>\n",
       "</table>\n",
       "</div>"
      ],
      "text/plain": [
       "            name                            title                url  \\\n",
       "0      AskReddit                    Ask Reddit...      /r/AskReddit/   \n",
       "1           news  All news, US and international.           /r/news/   \n",
       "2          funny                            funny          /r/funny/   \n",
       "3  AmItheAsshole               Am I the Asshole?   /r/AmItheAsshole/   \n",
       "4         gaming                         r/gaming         /r/gaming/   \n",
       "\n",
       "                                          banner_url  subscribers  \\\n",
       "0  https://b.thumbs.redditmedia.com/PXt8GnqdYu-9l...     25192935   \n",
       "1  https://b.thumbs.redditmedia.com/WFgeymV_hst-g...     19267086   \n",
       "2  https://a.thumbs.redditmedia.com/9zfV0uAe-z008...     27133349   \n",
       "3                                                NaN      1498468   \n",
       "4                                                NaN     24119770   \n",
       "\n",
       "   active_accounts    score  \\\n",
       "0           134018   464436   \n",
       "1            36157   718544   \n",
       "2            36266   836722   \n",
       "3            27283   266584   \n",
       "4            27405  1145960   \n",
       "\n",
       "                                                text  word_c  \n",
       "0  AskReddit has hit 25,000,000 subscribers! (ins...   11988  \n",
       "1  Epstein jail guards had been offered plea deal...    3046  \n",
       "2  Subreddit Of The Month [November 2019]: /r/sud...    4456  \n",
       "3  AmItheButtface: Where do all the other posts g...    8865  \n",
       "4  Free Talk Friday!A note about suspected advert...    5837  "
      ]
     },
     "execution_count": 6,
     "metadata": {},
     "output_type": "execute_result"
    }
   ],
   "source": [
    "df.head()"
   ]
  },
  {
   "cell_type": "markdown",
   "metadata": {},
   "source": [
    "### DATA EXPLORATION"
   ]
  },
  {
   "cell_type": "code",
   "execution_count": 10,
   "metadata": {},
   "outputs": [],
   "source": [
    "#Remove / and r from title\n",
    "### TODO "
   ]
  },
  {
   "cell_type": "code",
   "execution_count": 11,
   "metadata": {},
   "outputs": [
    {
     "data": {
      "text/plain": [
       "name                 0\n",
       "title                0\n",
       "url                  0\n",
       "banner_url         988\n",
       "subscribers          0\n",
       "active_accounts      0\n",
       "score                0\n",
       "text                 0\n",
       "dtype: int64"
      ]
     },
     "execution_count": 11,
     "metadata": {},
     "output_type": "execute_result"
    }
   ],
   "source": [
    "df.isnull().sum()"
   ]
  },
  {
   "cell_type": "code",
   "execution_count": 12,
   "metadata": {},
   "outputs": [
    {
     "data": {
      "text/plain": [
       "0.7470002033760423"
      ]
     },
     "execution_count": 12,
     "metadata": {},
     "output_type": "execute_result"
    }
   ],
   "source": [
    "#The amount of nulls in banner url is significative (74.7%)--- We can think in drop this column \n",
    "3673/4917"
   ]
  },
  {
   "cell_type": "code",
   "execution_count": 13,
   "metadata": {},
   "outputs": [
    {
     "data": {
      "text/plain": [
       "name               object\n",
       "title              object\n",
       "url                object\n",
       "banner_url         object\n",
       "subscribers         int64\n",
       "active_accounts     int64\n",
       "score               int64\n",
       "text               object\n",
       "dtype: object"
      ]
     },
     "execution_count": 13,
     "metadata": {},
     "output_type": "execute_result"
    }
   ],
   "source": [
    "df.dtypes"
   ]
  },
  {
   "cell_type": "code",
   "execution_count": 14,
   "metadata": {},
   "outputs": [
    {
     "data": {
      "text/html": [
       "<div>\n",
       "<style scoped>\n",
       "    .dataframe tbody tr th:only-of-type {\n",
       "        vertical-align: middle;\n",
       "    }\n",
       "\n",
       "    .dataframe tbody tr th {\n",
       "        vertical-align: top;\n",
       "    }\n",
       "\n",
       "    .dataframe thead th {\n",
       "        text-align: right;\n",
       "    }\n",
       "</style>\n",
       "<table border=\"1\" class=\"dataframe\">\n",
       "  <thead>\n",
       "    <tr style=\"text-align: right;\">\n",
       "      <th></th>\n",
       "      <th>count</th>\n",
       "      <th>mean</th>\n",
       "      <th>std</th>\n",
       "      <th>min</th>\n",
       "      <th>25%</th>\n",
       "      <th>50%</th>\n",
       "      <th>75%</th>\n",
       "      <th>max</th>\n",
       "    </tr>\n",
       "  </thead>\n",
       "  <tbody>\n",
       "    <tr>\n",
       "      <th>subscribers</th>\n",
       "      <td>1277.0</td>\n",
       "      <td>132892.127643</td>\n",
       "      <td>90571.006502</td>\n",
       "      <td>1556.0</td>\n",
       "      <td>50486.0</td>\n",
       "      <td>118352.0</td>\n",
       "      <td>200116.0</td>\n",
       "      <td>365587.0</td>\n",
       "    </tr>\n",
       "    <tr>\n",
       "      <th>active_accounts</th>\n",
       "      <td>1277.0</td>\n",
       "      <td>338.512921</td>\n",
       "      <td>516.690766</td>\n",
       "      <td>0.0</td>\n",
       "      <td>122.0</td>\n",
       "      <td>221.0</td>\n",
       "      <td>413.0</td>\n",
       "      <td>13199.0</td>\n",
       "    </tr>\n",
       "    <tr>\n",
       "      <th>score</th>\n",
       "      <td>1277.0</td>\n",
       "      <td>173368.609240</td>\n",
       "      <td>254011.215576</td>\n",
       "      <td>76.0</td>\n",
       "      <td>36935.0</td>\n",
       "      <td>92617.0</td>\n",
       "      <td>200131.0</td>\n",
       "      <td>2709079.0</td>\n",
       "    </tr>\n",
       "  </tbody>\n",
       "</table>\n",
       "</div>"
      ],
      "text/plain": [
       "                  count           mean            std     min      25%  \\\n",
       "subscribers      1277.0  132892.127643   90571.006502  1556.0  50486.0   \n",
       "active_accounts  1277.0     338.512921     516.690766     0.0    122.0   \n",
       "score            1277.0  173368.609240  254011.215576    76.0  36935.0   \n",
       "\n",
       "                      50%       75%        max  \n",
       "subscribers      118352.0  200116.0   365587.0  \n",
       "active_accounts     221.0     413.0    13199.0  \n",
       "score             92617.0  200131.0  2709079.0  "
      ]
     },
     "execution_count": 14,
     "metadata": {},
     "output_type": "execute_result"
    }
   ],
   "source": [
    "df.describe().T"
   ]
  },
  {
   "cell_type": "code",
   "execution_count": 15,
   "metadata": {},
   "outputs": [
    {
     "data": {
      "text/html": [
       "<div>\n",
       "<style scoped>\n",
       "    .dataframe tbody tr th:only-of-type {\n",
       "        vertical-align: middle;\n",
       "    }\n",
       "\n",
       "    .dataframe tbody tr th {\n",
       "        vertical-align: top;\n",
       "    }\n",
       "\n",
       "    .dataframe thead th {\n",
       "        text-align: right;\n",
       "    }\n",
       "</style>\n",
       "<table border=\"1\" class=\"dataframe\">\n",
       "  <thead>\n",
       "    <tr style=\"text-align: right;\">\n",
       "      <th></th>\n",
       "      <th>count</th>\n",
       "      <th>unique</th>\n",
       "      <th>top</th>\n",
       "      <th>freq</th>\n",
       "    </tr>\n",
       "  </thead>\n",
       "  <tbody>\n",
       "    <tr>\n",
       "      <th>name</th>\n",
       "      <td>1277</td>\n",
       "      <td>1277</td>\n",
       "      <td>gonewildcolor</td>\n",
       "      <td>1</td>\n",
       "    </tr>\n",
       "    <tr>\n",
       "      <th>title</th>\n",
       "      <td>1277</td>\n",
       "      <td>1277</td>\n",
       "      <td>Apple Watch</td>\n",
       "      <td>1</td>\n",
       "    </tr>\n",
       "    <tr>\n",
       "      <th>url</th>\n",
       "      <td>1277</td>\n",
       "      <td>1277</td>\n",
       "      <td>/r/Mavericks/</td>\n",
       "      <td>1</td>\n",
       "    </tr>\n",
       "    <tr>\n",
       "      <th>banner_url</th>\n",
       "      <td>289</td>\n",
       "      <td>288</td>\n",
       "      <td>https://b.thumbs.redditmedia.com/w0dQDZVHU-UQy...</td>\n",
       "      <td>2</td>\n",
       "    </tr>\n",
       "    <tr>\n",
       "      <th>text</th>\n",
       "      <td>1277</td>\n",
       "      <td>1277</td>\n",
       "      <td>Requests/Personals Thread IVNew name flairs an...</td>\n",
       "      <td>1</td>\n",
       "    </tr>\n",
       "  </tbody>\n",
       "</table>\n",
       "</div>"
      ],
      "text/plain": [
       "           count unique                                                top  \\\n",
       "name        1277   1277                                      gonewildcolor   \n",
       "title       1277   1277                                        Apple Watch   \n",
       "url         1277   1277                                      /r/Mavericks/   \n",
       "banner_url   289    288  https://b.thumbs.redditmedia.com/w0dQDZVHU-UQy...   \n",
       "text        1277   1277  Requests/Personals Thread IVNew name flairs an...   \n",
       "\n",
       "           freq  \n",
       "name          1  \n",
       "title         1  \n",
       "url           1  \n",
       "banner_url    2  \n",
       "text          1  "
      ]
     },
     "execution_count": 15,
     "metadata": {},
     "output_type": "execute_result"
    }
   ],
   "source": [
    "df.describe(exclude='number').T"
   ]
  },
  {
   "cell_type": "code",
   "execution_count": 7,
   "metadata": {},
   "outputs": [
    {
     "data": {
      "image/png": "[encoded data removed]",
      "text/plain": [
       "<Figure size 576x288 with 1 Axes>"
      ]
     },
     "metadata": {
      "needs_background": "light"
     },
     "output_type": "display_data"
    }
   ],
   "source": [
    "plt.figure(figsize=(8, 4))\n",
    "plt.hist(df['score'], bins=20);"
   ]
  },
  {
   "cell_type": "code",
   "execution_count": 8,
   "metadata": {},
   "outputs": [
    {
     "data": {
      "image/png": "[encoded data removed]",
      "text/plain": [
       "<Figure size 576x288 with 1 Axes>"
      ]
     },
     "metadata": {
      "needs_background": "light"
     },
     "output_type": "display_data"
    }
   ],
   "source": [
    "plt.figure(figsize=(8, 4))\n",
    "plt.hist(df['subscribers']);"
   ]
  },
  {
   "cell_type": "code",
   "execution_count": 9,
   "metadata": {},
   "outputs": [
    {
     "data": {
      "image/png": "[encoded data removed]",
      "text/plain": [
       "<Figure size 576x288 with 1 Axes>"
      ]
     },
     "metadata": {
      "needs_background": "light"
     },
     "output_type": "display_data"
    }
   ],
   "source": [
    "plt.figure(figsize=(8, 4))\n",
    "plt.hist(df['word_c']);"
   ]
  },
  {
   "cell_type": "code",
   "execution_count": 32,
   "metadata": {},
   "outputs": [],
   "source": [
    "# df['name'].value_counts()"
   ]
  },
  {
   "cell_type": "markdown",
   "metadata": {},
   "source": [
    "### Use Scikit-Learn's CountVectorizer"
   ]
  },
  {
   "cell_type": "code",
   "execution_count": 20,
   "metadata": {},
   "outputs": [],
   "source": [
    "vect = CountVectorizer(stop_words='english')"
   ]
  },
  {
   "cell_type": "code",
   "execution_count": 21,
   "metadata": {},
   "outputs": [],
   "source": [
    "vect.fit(df['text'])\n",
    "dtm = vect.transform(df['text'])"
   ]
  },
  {
   "cell_type": "code",
   "execution_count": 22,
   "metadata": {},
   "outputs": [
    {
     "ename": "MemoryError",
     "evalue": "Unable to allocate array with shape (1277, 650510) and data type int64",
     "output_type": "error",
     "traceback": [
      "\u001b[0;31m---------------------------------------------------------------------------\u001b[0m",
      "\u001b[0;31mMemoryError\u001b[0m                               Traceback (most recent call last)",
      "\u001b[0;32m<ipython-input-22-4a6e34925f66>\u001b[0m in \u001b[0;36m<module>\u001b[0;34m\u001b[0m\n\u001b[0;32m----> 1\u001b[0;31m \u001b[0mdtm\u001b[0m \u001b[0;34m=\u001b[0m \u001b[0mpd\u001b[0m\u001b[0;34m.\u001b[0m\u001b[0mDataFrame\u001b[0m\u001b[0;34m(\u001b[0m\u001b[0mdtm\u001b[0m\u001b[0;34m.\u001b[0m\u001b[0mtodense\u001b[0m\u001b[0;34m(\u001b[0m\u001b[0;34m)\u001b[0m\u001b[0;34m,\u001b[0m \u001b[0mcolumns\u001b[0m\u001b[0;34m=\u001b[0m\u001b[0mvect\u001b[0m\u001b[0;34m.\u001b[0m\u001b[0mget_feature_names\u001b[0m\u001b[0;34m(\u001b[0m\u001b[0;34m)\u001b[0m\u001b[0;34m)\u001b[0m\u001b[0;34m\u001b[0m\u001b[0;34m\u001b[0m\u001b[0m\n\u001b[0m",
      "\u001b[0;32m~/anaconda3/envs/JupyterSystemEnv/lib/python3.6/site-packages/scipy/sparse/base.py\u001b[0m in \u001b[0;36mtodense\u001b[0;34m(self, order, out)\u001b[0m\n\u001b[1;32m    846\u001b[0m             \u001b[0;31m`\u001b[0m\u001b[0mnumpy\u001b[0m\u001b[0;34m.\u001b[0m\u001b[0mmatrix\u001b[0m\u001b[0;31m`\u001b[0m \u001b[0mobject\u001b[0m \u001b[0mthat\u001b[0m \u001b[0mshares\u001b[0m \u001b[0mthe\u001b[0m \u001b[0msame\u001b[0m \u001b[0mmemory\u001b[0m\u001b[0;34m.\u001b[0m\u001b[0;34m\u001b[0m\u001b[0;34m\u001b[0m\u001b[0m\n\u001b[1;32m    847\u001b[0m         \"\"\"\n\u001b[0;32m--> 848\u001b[0;31m         \u001b[0;32mreturn\u001b[0m \u001b[0masmatrix\u001b[0m\u001b[0;34m(\u001b[0m\u001b[0mself\u001b[0m\u001b[0;34m.\u001b[0m\u001b[0mtoarray\u001b[0m\u001b[0;34m(\u001b[0m\u001b[0morder\u001b[0m\u001b[0;34m=\u001b[0m\u001b[0morder\u001b[0m\u001b[0;34m,\u001b[0m \u001b[0mout\u001b[0m\u001b[0;34m=\u001b[0m\u001b[0mout\u001b[0m\u001b[0;34m)\u001b[0m\u001b[0;34m)\u001b[0m\u001b[0;34m\u001b[0m\u001b[0;34m\u001b[0m\u001b[0m\n\u001b[0m\u001b[1;32m    849\u001b[0m \u001b[0;34m\u001b[0m\u001b[0m\n\u001b[1;32m    850\u001b[0m     \u001b[0;32mdef\u001b[0m \u001b[0mtoarray\u001b[0m\u001b[0;34m(\u001b[0m\u001b[0mself\u001b[0m\u001b[0;34m,\u001b[0m \u001b[0morder\u001b[0m\u001b[0;34m=\u001b[0m\u001b[0;32mNone\u001b[0m\u001b[0;34m,\u001b[0m \u001b[0mout\u001b[0m\u001b[0;34m=\u001b[0m\u001b[0;32mNone\u001b[0m\u001b[0;34m)\u001b[0m\u001b[0;34m:\u001b[0m\u001b[0;34m\u001b[0m\u001b[0;34m\u001b[0m\u001b[0m\n",
      "\u001b[0;32m~/anaconda3/envs/JupyterSystemEnv/lib/python3.6/site-packages/scipy/sparse/compressed.py\u001b[0m in \u001b[0;36mtoarray\u001b[0;34m(self, order, out)\u001b[0m\n\u001b[1;32m   1022\u001b[0m         \u001b[0;32mif\u001b[0m \u001b[0mout\u001b[0m \u001b[0;32mis\u001b[0m \u001b[0;32mNone\u001b[0m \u001b[0;32mand\u001b[0m \u001b[0morder\u001b[0m \u001b[0;32mis\u001b[0m \u001b[0;32mNone\u001b[0m\u001b[0;34m:\u001b[0m\u001b[0;34m\u001b[0m\u001b[0;34m\u001b[0m\u001b[0m\n\u001b[1;32m   1023\u001b[0m             \u001b[0morder\u001b[0m \u001b[0;34m=\u001b[0m \u001b[0mself\u001b[0m\u001b[0;34m.\u001b[0m\u001b[0m_swap\u001b[0m\u001b[0;34m(\u001b[0m\u001b[0;34m'cf'\u001b[0m\u001b[0;34m)\u001b[0m\u001b[0;34m[\u001b[0m\u001b[0;36m0\u001b[0m\u001b[0;34m]\u001b[0m\u001b[0;34m\u001b[0m\u001b[0;34m\u001b[0m\u001b[0m\n\u001b[0;32m-> 1024\u001b[0;31m         \u001b[0mout\u001b[0m \u001b[0;34m=\u001b[0m \u001b[0mself\u001b[0m\u001b[0;34m.\u001b[0m\u001b[0m_process_toarray_args\u001b[0m\u001b[0;34m(\u001b[0m\u001b[0morder\u001b[0m\u001b[0;34m,\u001b[0m \u001b[0mout\u001b[0m\u001b[0;34m)\u001b[0m\u001b[0;34m\u001b[0m\u001b[0;34m\u001b[0m\u001b[0m\n\u001b[0m\u001b[1;32m   1025\u001b[0m         \u001b[0;32mif\u001b[0m \u001b[0;32mnot\u001b[0m \u001b[0;34m(\u001b[0m\u001b[0mout\u001b[0m\u001b[0;34m.\u001b[0m\u001b[0mflags\u001b[0m\u001b[0;34m.\u001b[0m\u001b[0mc_contiguous\u001b[0m \u001b[0;32mor\u001b[0m \u001b[0mout\u001b[0m\u001b[0;34m.\u001b[0m\u001b[0mflags\u001b[0m\u001b[0;34m.\u001b[0m\u001b[0mf_contiguous\u001b[0m\u001b[0;34m)\u001b[0m\u001b[0;34m:\u001b[0m\u001b[0;34m\u001b[0m\u001b[0;34m\u001b[0m\u001b[0m\n\u001b[1;32m   1026\u001b[0m             \u001b[0;32mraise\u001b[0m \u001b[0mValueError\u001b[0m\u001b[0;34m(\u001b[0m\u001b[0;34m'Output array must be C or F contiguous'\u001b[0m\u001b[0;34m)\u001b[0m\u001b[0;34m\u001b[0m\u001b[0;34m\u001b[0m\u001b[0m\n",
      "\u001b[0;32m~/anaconda3/envs/JupyterSystemEnv/lib/python3.6/site-packages/scipy/sparse/base.py\u001b[0m in \u001b[0;36m_process_toarray_args\u001b[0;34m(self, order, out)\u001b[0m\n\u001b[1;32m   1184\u001b[0m             \u001b[0;32mreturn\u001b[0m \u001b[0mout\u001b[0m\u001b[0;34m\u001b[0m\u001b[0;34m\u001b[0m\u001b[0m\n\u001b[1;32m   1185\u001b[0m         \u001b[0;32melse\u001b[0m\u001b[0;34m:\u001b[0m\u001b[0;34m\u001b[0m\u001b[0;34m\u001b[0m\u001b[0m\n\u001b[0;32m-> 1186\u001b[0;31m             \u001b[0;32mreturn\u001b[0m \u001b[0mnp\u001b[0m\u001b[0;34m.\u001b[0m\u001b[0mzeros\u001b[0m\u001b[0;34m(\u001b[0m\u001b[0mself\u001b[0m\u001b[0;34m.\u001b[0m\u001b[0mshape\u001b[0m\u001b[0;34m,\u001b[0m \u001b[0mdtype\u001b[0m\u001b[0;34m=\u001b[0m\u001b[0mself\u001b[0m\u001b[0;34m.\u001b[0m\u001b[0mdtype\u001b[0m\u001b[0;34m,\u001b[0m \u001b[0morder\u001b[0m\u001b[0;34m=\u001b[0m\u001b[0morder\u001b[0m\u001b[0;34m)\u001b[0m\u001b[0;34m\u001b[0m\u001b[0;34m\u001b[0m\u001b[0m\n\u001b[0m\u001b[1;32m   1187\u001b[0m \u001b[0;34m\u001b[0m\u001b[0m\n\u001b[1;32m   1188\u001b[0m \u001b[0;34m\u001b[0m\u001b[0m\n",
      "\u001b[0;31mMemoryError\u001b[0m: Unable to allocate array with shape (1277, 650510) and data type int64"
     ]
    }
   ],
   "source": [
    "dtm = pd.DataFrame(dtm.todense(), columns=vect.get_feature_names())"
   ]
  },
  {
   "cell_type": "code",
   "execution_count": null,
   "metadata": {},
   "outputs": [],
   "source": [
    "doc_len = [len(doc) for doc in df['text']]"
   ]
  },
  {
   "cell_type": "code",
   "execution_count": null,
   "metadata": {},
   "outputs": [],
   "source": [
    "sns.distplot(doc_len);"
   ]
  },
  {
   "cell_type": "markdown",
   "metadata": {},
   "source": [
    "### TfidfVectorize"
   ]
  },
  {
   "cell_type": "code",
   "execution_count": 40,
   "metadata": {},
   "outputs": [
    {
     "data": {
      "text/html": [
       "<div>\n",
       "<style scoped>\n",
       "    .dataframe tbody tr th:only-of-type {\n",
       "        vertical-align: middle;\n",
       "    }\n",
       "\n",
       "    .dataframe tbody tr th {\n",
       "        vertical-align: top;\n",
       "    }\n",
       "\n",
       "    .dataframe thead th {\n",
       "        text-align: right;\n",
       "    }\n",
       "</style>\n",
       "<table border=\"1\" class=\"dataframe\">\n",
       "  <thead>\n",
       "    <tr style=\"text-align: right;\">\n",
       "      <th></th>\n",
       "      <th>00</th>\n",
       "      <th>000</th>\n",
       "      <th>0000</th>\n",
       "      <th>000000000000004lbs</th>\n",
       "      <th>00000001</th>\n",
       "      <th>000000c1</th>\n",
       "      <th>0000065432are</th>\n",
       "      <th>0000065432mike</th>\n",
       "      <th>00000japan</th>\n",
       "      <th>000028478</th>\n",
       "      <th>...</th>\n",
       "      <th>𝚝𝚘</th>\n",
       "      <th>𝚞𝚗𝚗𝚗𝚗𝚗𝚏</th>\n",
       "      <th>𝚠𝚊𝚗𝚗𝚊</th>\n",
       "      <th>𝚠𝚊𝚛𝚖</th>\n",
       "      <th>𝚠𝚊𝚜</th>\n",
       "      <th>𝚠𝚎𝚕𝚕</th>\n",
       "      <th>𝚠𝚒𝚏𝚏𝚏𝚏𝚏𝚏</th>\n",
       "      <th>𝟗𝐀𝐌</th>\n",
       "      <th>𝟷𝟾</th>\n",
       "      <th>𝟻𝟼</th>\n",
       "    </tr>\n",
       "  </thead>\n",
       "  <tbody>\n",
       "    <tr>\n",
       "      <th>0</th>\n",
       "      <td>0.000000</td>\n",
       "      <td>0.000000</td>\n",
       "      <td>0.0</td>\n",
       "      <td>0.0</td>\n",
       "      <td>0.0</td>\n",
       "      <td>0.0</td>\n",
       "      <td>0.0</td>\n",
       "      <td>0.0</td>\n",
       "      <td>0.0</td>\n",
       "      <td>0.0</td>\n",
       "      <td>...</td>\n",
       "      <td>0.0</td>\n",
       "      <td>0.0</td>\n",
       "      <td>0.0</td>\n",
       "      <td>0.0</td>\n",
       "      <td>0.0</td>\n",
       "      <td>0.0</td>\n",
       "      <td>0.0</td>\n",
       "      <td>0.0</td>\n",
       "      <td>0.0</td>\n",
       "      <td>0.0</td>\n",
       "    </tr>\n",
       "    <tr>\n",
       "      <th>1</th>\n",
       "      <td>0.015364</td>\n",
       "      <td>0.000000</td>\n",
       "      <td>0.0</td>\n",
       "      <td>0.0</td>\n",
       "      <td>0.0</td>\n",
       "      <td>0.0</td>\n",
       "      <td>0.0</td>\n",
       "      <td>0.0</td>\n",
       "      <td>0.0</td>\n",
       "      <td>0.0</td>\n",
       "      <td>...</td>\n",
       "      <td>0.0</td>\n",
       "      <td>0.0</td>\n",
       "      <td>0.0</td>\n",
       "      <td>0.0</td>\n",
       "      <td>0.0</td>\n",
       "      <td>0.0</td>\n",
       "      <td>0.0</td>\n",
       "      <td>0.0</td>\n",
       "      <td>0.0</td>\n",
       "      <td>0.0</td>\n",
       "    </tr>\n",
       "    <tr>\n",
       "      <th>2</th>\n",
       "      <td>0.006968</td>\n",
       "      <td>0.000000</td>\n",
       "      <td>0.0</td>\n",
       "      <td>0.0</td>\n",
       "      <td>0.0</td>\n",
       "      <td>0.0</td>\n",
       "      <td>0.0</td>\n",
       "      <td>0.0</td>\n",
       "      <td>0.0</td>\n",
       "      <td>0.0</td>\n",
       "      <td>...</td>\n",
       "      <td>0.0</td>\n",
       "      <td>0.0</td>\n",
       "      <td>0.0</td>\n",
       "      <td>0.0</td>\n",
       "      <td>0.0</td>\n",
       "      <td>0.0</td>\n",
       "      <td>0.0</td>\n",
       "      <td>0.0</td>\n",
       "      <td>0.0</td>\n",
       "      <td>0.0</td>\n",
       "    </tr>\n",
       "    <tr>\n",
       "      <th>3</th>\n",
       "      <td>0.000000</td>\n",
       "      <td>0.003896</td>\n",
       "      <td>0.0</td>\n",
       "      <td>0.0</td>\n",
       "      <td>0.0</td>\n",
       "      <td>0.0</td>\n",
       "      <td>0.0</td>\n",
       "      <td>0.0</td>\n",
       "      <td>0.0</td>\n",
       "      <td>0.0</td>\n",
       "      <td>...</td>\n",
       "      <td>0.0</td>\n",
       "      <td>0.0</td>\n",
       "      <td>0.0</td>\n",
       "      <td>0.0</td>\n",
       "      <td>0.0</td>\n",
       "      <td>0.0</td>\n",
       "      <td>0.0</td>\n",
       "      <td>0.0</td>\n",
       "      <td>0.0</td>\n",
       "      <td>0.0</td>\n",
       "    </tr>\n",
       "    <tr>\n",
       "      <th>4</th>\n",
       "      <td>0.000000</td>\n",
       "      <td>0.007904</td>\n",
       "      <td>0.0</td>\n",
       "      <td>0.0</td>\n",
       "      <td>0.0</td>\n",
       "      <td>0.0</td>\n",
       "      <td>0.0</td>\n",
       "      <td>0.0</td>\n",
       "      <td>0.0</td>\n",
       "      <td>0.0</td>\n",
       "      <td>...</td>\n",
       "      <td>0.0</td>\n",
       "      <td>0.0</td>\n",
       "      <td>0.0</td>\n",
       "      <td>0.0</td>\n",
       "      <td>0.0</td>\n",
       "      <td>0.0</td>\n",
       "      <td>0.0</td>\n",
       "      <td>0.0</td>\n",
       "      <td>0.0</td>\n",
       "      <td>0.0</td>\n",
       "    </tr>\n",
       "  </tbody>\n",
       "</table>\n",
       "<p>5 rows × 650510 columns</p>\n",
       "</div>"
      ],
      "text/plain": [
       "         00       000  0000  000000000000004lbs  00000001  000000c1  \\\n",
       "0  0.000000  0.000000   0.0                 0.0       0.0       0.0   \n",
       "1  0.015364  0.000000   0.0                 0.0       0.0       0.0   \n",
       "2  0.006968  0.000000   0.0                 0.0       0.0       0.0   \n",
       "3  0.000000  0.003896   0.0                 0.0       0.0       0.0   \n",
       "4  0.000000  0.007904   0.0                 0.0       0.0       0.0   \n",
       "\n",
       "   0000065432are  0000065432mike  00000japan  000028478  ...   𝚝𝚘  𝚞𝚗𝚗𝚗𝚗𝚗𝚏  \\\n",
       "0            0.0             0.0         0.0        0.0  ...  0.0      0.0   \n",
       "1            0.0             0.0         0.0        0.0  ...  0.0      0.0   \n",
       "2            0.0             0.0         0.0        0.0  ...  0.0      0.0   \n",
       "3            0.0             0.0         0.0        0.0  ...  0.0      0.0   \n",
       "4            0.0             0.0         0.0        0.0  ...  0.0      0.0   \n",
       "\n",
       "   𝚠𝚊𝚗𝚗𝚊  𝚠𝚊𝚛𝚖  𝚠𝚊𝚜  𝚠𝚎𝚕𝚕  𝚠𝚒𝚏𝚏𝚏𝚏𝚏𝚏  𝟗𝐀𝐌   𝟷𝟾   𝟻𝟼  \n",
       "0    0.0   0.0  0.0   0.0       0.0  0.0  0.0  0.0  \n",
       "1    0.0   0.0  0.0   0.0       0.0  0.0  0.0  0.0  \n",
       "2    0.0   0.0  0.0   0.0       0.0  0.0  0.0  0.0  \n",
       "3    0.0   0.0  0.0   0.0       0.0  0.0  0.0  0.0  \n",
       "4    0.0   0.0  0.0   0.0       0.0  0.0  0.0  0.0  \n",
       "\n",
       "[5 rows x 650510 columns]"
      ]
     },
     "execution_count": 40,
     "metadata": {},
     "output_type": "execute_result"
    }
   ],
   "source": [
    "from sklearn.feature_extraction.text import TfidfVectorizer\n",
    "\n",
    "# Instantiate vectorizer object\n",
    "tfidf = TfidfVectorizer(stop_words='english')\n",
    "\n",
    "# Create a vocabulary and get word counts per document\n",
    "# Similiar to fit_predict\n",
    "dtm = tfidf.fit_transform(df['text'])\n",
    "\n",
    "# Print word counts\n",
    "\n",
    "# Get feature names to use as dataframe column headers\n",
    "dtm = pd.DataFrame(dtm.todense(), columns=tfidf.get_feature_names())\n",
    "\n",
    "# View Feature Matrix as DataFrame\n",
    "dtm.head()"
   ]
  },
  {
   "cell_type": "code",
   "execution_count": 3,
   "metadata": {},
   "outputs": [],
   "source": [
    "import spacy\n",
    "nlp = spacy.load('en_core_web_sm')"
   ]
  },
  {
   "cell_type": "code",
   "execution_count": 10,
   "metadata": {},
   "outputs": [],
   "source": [
    "# ### Tokenize\n",
    "def tokenize(document):\n",
    "    \n",
    "    doc = nlp(document)\n",
    "    \n",
    "    return [token.lemma_.strip() for token in doc if (token.is_stop != True) and (token.is_punct != True)]"
   ]
  },
  {
   "cell_type": "code",
   "execution_count": null,
   "metadata": {},
   "outputs": [],
   "source": [
    "from sklearn.feature_extraction.text import TfidfVectorizer\n",
    "\n",
    "# Instantiate vectorizer object\n",
    "tfidf = TfidfVectorizer(tokenizer=tokenize, min_df=0.025, max_df=.98, ngram_range=(1,2))\n",
    "\n",
    "# Create a vocabulary and get word counts per comment\n",
    "dtm = tfidf.fit_transform(df['text']) # Similiar to fit_predict\n",
    "\n",
    "\n",
    "# Get feature names to use as dataframe column headers\n",
    "dtm = pd.DataFrame(dtm.todense(), columns=tfidf.get_feature_names())\n",
    "\n",
    "# View Feature Matrix as DataFrame\n",
    "dtm.head()"
   ]
  },
  {
   "cell_type": "markdown",
   "metadata": {},
   "source": [
    "### NearestNeighbor (K-NN)"
   ]
  },
  {
   "cell_type": "code",
   "execution_count": 41,
   "metadata": {},
   "outputs": [
    {
     "data": {
      "text/plain": [
       "NearestNeighbors(algorithm='kd_tree', leaf_size=30, metric='minkowski',\n",
       "                 metric_params=None, n_jobs=None, n_neighbors=5, p=2,\n",
       "                 radius=1.0)"
      ]
     },
     "execution_count": 41,
     "metadata": {},
     "output_type": "execute_result"
    }
   ],
   "source": [
    "# Instantiate\n",
    "from sklearn.neighbors import NearestNeighbors\n",
    "\n",
    "# Fit on TF-IDF Vectors\n",
    "nn  = NearestNeighbors(n_neighbors=5, algorithm='kd_tree')\n",
    "nn.fit(dtm)"
   ]
  },
  {
   "cell_type": "code",
   "execution_count": null,
   "metadata": {},
   "outputs": [],
   "source": [
    "# # Query Using kneighbors \n",
    "# nn.kneighbors([dtm.iloc[114]])"
   ]
  },
  {
   "cell_type": "code",
   "execution_count": null,
   "metadata": {},
   "outputs": [],
   "source": [
    "# # Our Similarity Matrix is ? size \n",
    "# df.shape"
   ]
  },
  {
   "cell_type": "code",
   "execution_count": 67,
   "metadata": {},
   "outputs": [],
   "source": [
    "reddit_test = [\"\"\" Few people realize 61.8% of Lambda School students DO NOT have a Bachelor’s Degree.\n",
    "\n",
    "Regardless, in less than a year they’re landing high-paying jobs in lasting careers. \n",
    "\n",
    "They pay nothing upfront, will only make payments at all for two years, and will never pay more than $30k.  \"\"\"]"
   ]
  },
  {
   "cell_type": "code",
   "execution_count": 68,
   "metadata": {},
   "outputs": [
    {
     "data": {
      "text/plain": [
       "(array([[1.29899493, 1.31485336, 1.3505246 , 1.3572382 , 1.35770732]]),\n",
       " array([[ 163,  898,  472, 1004,  274]]))"
      ]
     },
     "execution_count": 68,
     "metadata": {},
     "output_type": "execute_result"
    }
   ],
   "source": [
    "\n",
    "# Query for Sim of Random doc to BBC\n",
    "new = tfidf.transform(reddit_test)\n",
    "\n",
    "nn.kneighbors(new.todense())"
   ]
  },
  {
   "cell_type": "code",
   "execution_count": 71,
   "metadata": {},
   "outputs": [
    {
     "data": {
      "text/plain": [
       "'What do you really want to do?'"
      ]
     },
     "execution_count": 71,
     "metadata": {},
     "output_type": "execute_result"
    }
   ],
   "source": [
    "# Inspect Most relevant result\n",
    "df['title'].iloc[163]"
   ]
  },
  {
   "cell_type": "code",
   "execution_count": 72,
   "metadata": {},
   "outputs": [
    {
     "data": {
      "text/plain": [
       "'Where to start in automation and machine learning?I don’t know what to do to be satisfiedDrop out of college for the trades?Can anyone suggest an emerging field which is both technical and creative?What are well paying jobs to work in before moving to my planned path?I wanna make money with good work life balance. I have completed my pre-med courses almost and looking at a Business Degree. What major or career should I pursue?Anyone here have experience with actually achieving their dream job then finding out it wasn\\'t what you wanted?Let me save you precious time from reading \"self-help\" books, articles, etc for you to hear what\\'s going to actually change your life.I\\'m a computer networking major and Idk what I really want to doIdeas for a Career of Many HatsI keep switching majors because I don’t know what to do for a career and my parents keep pressuring meI, don’t knowI need help with finding a hobby, or an interest.Want to travel the world, but don\\'t have money to get started? Maybe this is the job to help you find your start...MS/PhD\\'s in Social Sciences are more \"marketable\" than Life/Physical Sciences?The Reticular Activating System - tech that could change your lifeKeen on pursuing a job that will use Japanese, but regret my current major.No idea what job/career I would enjoyShort-term job opportunities to kickstart new beginning?Finding Purpose worksheetGoal: to learn about myself so that I will finally realize/understand what I want.I want to go from college to the kitchen, adviceI like helping people but not sure what the best way to do so is.Recently started a new awesome job! However, I am thinking its time for a completely different path.I have a full blown career that I love, but want to get into DJing for the last decade!Having second thoughts about career path, feels like I’m screwed18M and think i have too much going on to focus on stuff that should be importantNot sure what I should do.Adventurous Career pathsTaking a leap to get out of my home town.Organization Leads To Awareness Leads To OpportunitiesLooking to get into graphic design to complement my current jobYou don’t need to be an expert to start on a pathJobs in engineering that are environmental friendlyStruggling with starting a careerCareer helpHelp my friend find a job that is teaching-adjacentI\\'m very good at math, I like working on a computer but didnt like computer science (especially programming, gave up after C#)What kind of careers are in insurance?Already have a bachelors degree, should I go get another degree (Nursing) or radiologist technician?Switch my major or stick with it?Interested in art/animation career choices. What is a day of an artist like?What Would I be Good at?Conflicted between majorsTraining school ESL teacher in Beijing - Perfect for a Traveler\\'s Heart <3Creative Career Options?Niche job interest: working with serial criminalsJob hopping or.....?Careers where you work outsideWhere to go from here?Are there any websites or programs that I can list my credentials and people look at me for jobs?Have experience as an interview videographer, where can I look for a career in a big city (Atlanta)?There has to be more to life...I\\'m stuck at my current job, but I\\'m almost 30 and scared/guilty of change. AKA: The Coals of OpportunityOn autopilotI just want to do everything.Feeling Trapped as a Legal AssistantJobs similar to a cart pusher?Work opportunity to kickstart beginning?Worried for the futurePetrified Second-Year Arts Student. Am I doing this right? 19/FI\\'m done.What jobs are best for me? What are my options?I have an idea of my perfect job but I don\\'t know what it is?Biology, Art..?M23 quit my CS degree, thinking about what to study nextI want to help others find a path and improve their lives. I created a Discord community with this focus.What kind of jobs are there for a love of history?I want to help people find better jobs. Let me do it for you if you\\'re lazyI don\\'t think my interests align with my chosen career.Need a new path and adviceNursing or Web Development?24F, caught between the arts and practicalityI Know The First Step To Creating A Fulfilling Life With Many InterestsLost RecruiterTrying to match my experience/skills and traits with career options?Biomedical engineer in sales who doesn\\'t want to do either of thoseDegree that mixes business and literature?Lost all my passion for my future careerHow Being Jobless for 7 Months Has Helped Me (ft. Got a Job Offer!)Getting away from profit-focused industryI want to write novels, but my parents don’t think it’s a real job.I\\'m a ex-wannabe journalist, ex-wannabe psychologist, and ex-wannabe teacher. What other fields do you think will suit me?How common is it for people to rush marriage, kids, and buy a house bc they think they have to by a certain age?28 years old. Finance background (but disinterested in finance jobs). Looking for career ideas!27 F trying to figure out what to doDo I really need a college degree?Absolute job security/demand and a clear 10-20 year progression?Considering being my friends full-time caretaker... but I am cautious.My wife needs a stay at home career.I have vague interests and no career path.Done some work trying to identify my path - Would love some feedback / career recommendations pleaseConfused Undergrad :(Im stuck27 year old with a Philosophy degree currently working part time at the YMCA and not sure where to go nextSoft crisis on a forked road.22 (m) out of school and have no idea what to do (Montreal)It\\'s time again for my yearly career crisis! I am so lost...I let social anxiety ruin my life.I\\'m 21 years old and just finished a Bachelor\\'s in Business Management. I want to be a Physical Therapist but I need to study for 4 years and don\\'t have the money for that. What can I do?Graduating with a degree in education in the spring and I don’t want to teach anymoreanything but the cityHey!! Im a registered massgae therapist and have been working for 8 years. I want to move onto whats next before the arthritis sinks in.Trying to pivot into a more enjoyable pathStarting over at 31 years old.I want to become a therapist.34, looking for a new directionIndecision and doubt are my worst enemyI’d really appreciate supportI attend community college in NY but want to work in Florida by graduation. Should I transfer out of state for the last two years?How do I choose a career I want when Im indecisive?Just turning 26. Want to finish college but can\\'t afford it. Just want to support a family, what do?Want to be a musician/need to find a degree that can give give me revenue while working on musicI’m holding up just fineUnderemployed nearly 2 years after graduation - what to do now?I\\'ve picked the wrong major and I regret it. Help/Advice?Does anyone feel they can\\'t stay in one place for that long?My life long dream of a BnB but ...Dogs?/r/findapath hit 80k subscribers yesterdayAm I being completely insane?Uncertain about career but I know full well I can\\'t do a normal jobHow can I work with human behavior?I want to do something that incorporates music, photography and CinematographyWhat career should i choose? Medical assistant or Nurse assistant.What job does this sound like?About to graduate with a degree that I don’t really fit into. Need help figuring out what to do from here.I can\\'t think of a back up career for meDoes college really matter?Seeking financial kickstart for new beginning28M BA in Psych at a breaking point with what was once a cozy retail job. Don\\'t even know what my options are from here. I feel too old, too much time has been wasted.I\\'m so lost right now. Can you please help me?I want to contribute to the world but don’t know howI\\'m in high school and i have absolutely no idea what i want to major inShould I stay or should I go? (pun intended)27 years old with a degree making minimum wage, how can I become independent and pay off my debt?How can I become someone who designs future-forward, sustainable communities?Need advice: Is anyone out there who changed careers from brand engagement/OOH marketing to scrum master rolesFeasible to start mech engineering degree at 27?Can I Get a Restart26 years old with a degree making minimum wage, how can I become independent and pay off my debt with less worry?Turns out I hate graphic design.I want to know the \"how and why\" about everythingHave many young people actually found their dream job?I am burning myself out as a college student but I\\'m getting my Associate of Arts and Science in the spring. Is there anywhere I can go to get experience while taking a break?How did you figure out what you wanted from life? Specifically in terms of career and overall direction.This is me, at a glimpse. What jobs or roads should I be looking into?ADHD/just want to travel(international)Interested in a new directionHello! I want to major in psych and econ. I will defend my position then tell me if this is a good or bad idea. Thanks for support!A little lost and confused. Could really use some advice about where to go from here. It’s a lengthy post but any advice would be much appreciated. I’m really pouring my heart out here.Does anyone think living in a big city is overrated?Three years ago I quit my job and set off on the road to find myself. This is my passion project: a moon and nature calendar, year two!I am good at finding info on people. What career should I follow??Dropped out of grad school based on a gut feeling and just got rejected from another grad program that I felt was right? I\\'m a mess right now and don\\'t know what to do.If you get married, have kids, and buy a house are you tied down for good?What jobs/fields (that involve international travel, perhaps) would you recommend to a sort of bilingual artist type with a BA who is an excellent speaker/teacher? Assume any pay over $24k annually is fine as is \"work from home\"/freelance.The dilemma of finding a path26F with college degree struggling to find a path.Trying to figure out what I can do with my life.I have a bit of a dilemma and desperately need advice.Currently in college for graphic design, don\\'t know what to do afterNeed help with my next moveMentally ill and depressed kid with no passions. I have a plan but I\\'m not quite sure if it\\'s feasible.Daily routine appsIf I wanted to be a nerd and post all day on /dataisbeautiful, what kind of degree would work, Journalism + Data Journalism, or Statistics?I\\'m a 20 year old woman who owns and operate a mental health discord serverTwo Degrees (Communication/CS), No Relevant Experience - What Should I Do?An unsure graduateFinished school, staying with my family makes me feel bad and the next month i will go to Spain to live with a friendStruggling to find a major/careerLast month had a lot of change and I wondering what I should be doing now?“Study the science of art. Study the art of science. Develop your senses — especially learn how to see. Realize that everything connects to everything else.” - Leonardo DaVinciAre their any decent job options if my goal is to work 25-30 hours a week?How to Become a Professor?Marketing to Costume Design and SFXNearing 21 years old, feeling lost. Biggest aspiration is to move to Japan.My civil engineering and masters degree don’t seem to be taking me anywhere!Which road to take?No talents at allProperty Economics and ManagementI don’t know what to do, suck at math science ect.?ASL and business??I am 25M, a brand/graphic designer who wants to jump into video game industry.Can small women go into skilled trades?Thinking about going back to school for a civil engineering degree. I have a BA in Sociology already and am not finding enough job prospects. How far can I get with a BS in Civil Engineering?Not sure if I\\'m ready, but I\\'m worth more than this.21F trying to figure out what to do once I graduate with a Biology degreeI (23M) want to be a bioengineer.Double Major? Swap? IDKSuggestions for \"just a job\" jobs?Can\\'t stand teaching anymore - is counseling a good fit for me or do I need a whole new field?Stay at home and save money or get your own place and struggle?I\\'m 23 years old and have been going in circles for years26F working in IT for almost 3 years. Want a change.I\\'m a Yale Law grad, attorney, and writer who\\'s been lucky to get good advice in life so far. I want to give back...so I\\'m offering free career coaching sessions to anyone interested!Academia, Law, Coaching Football or something else entirely? Please help me choose a path.Please tell me I’m not too late to pursue a career change at 29.Boyfriend has an odd mish-mash of a resume, from teaching English in foreign countries to Wildland Firefighting - he wants something with a “purpose” where’s he’s not confined to a deskDreaming vs. RealityDon’t know what to do as a job. Good money is a must have.Anyone know of good career aptitude tests? Websites, etc? Preferably free.In a rut, looking for some adviceHow Do I Choose A Career If There\\'s Nothing I\\'m Interested In?Can\\'t get the job without experience. Can\\'t get experience without the job.Abandoned my career at 32[NYC] Double Major in Politics and Journalism with Fluency in RussianShould I dropout of Highschool for a self employing career involving my interests?I can absolutely not stand Biology anymore29F Feeling Confused...Burnt out on WorkI really, really cannot with math anymore.Unable to progress, so looking for the next step to takeWhat’s it like to be an Aerospace Engineer?How do I decide what specific Finance career path I should go towards?Do you find yourself not being able to do much leisurely after you pay all your bills off? 📷Medical Lab Scientist wanting out of the labHelp please ! 28 and lost in lifeFinding my one true love... careerStarting to feel like I\\'ll never find a path. Here\\'s a fun challenge for you.Changing Careers at 25 with few skillsI\\'ve been on and off employed for the past 5 years. Is this common among young adults?A career that doesn’t involve doing math or lying to peopleMid 30s (f) needs a job but totally burned out/depressed16m, 3/4 through first semester at college and despise my major. Don\\'t know what to do.Older student struggling to pick a major/career pathI don\\'t even know where to begin.I just quit my job at 31 and plan to just do anything for a year16F, Not enjoying school and took a 2yr apprenticeship/college course thing alongside school which I\\'m also not enjoying.All I ever want is to have a job I am passionate about, but I have no idea what I\\'m passionate about?Careers/Hobbies involving Patterns, Dexterity, and Choices?Age: 30. Experience: Zero. Looking for IT/Coding related work that pays up to $1K a month. Where do I look? And will I be able to do something as a server-side dev? Or do I need to look elsewhere?How to work towards lifestyle I want?Music/Production TeamBeen holding a cubicle job for a couple years, but I can\\'t see myself doing it much longerNot Sure Where to Gofeel like I need to be doing something but idk what...(35M) Planning on taking a career break, advice on finding what I want to do next?Stuck in the mud and need help moving along.Coming to a crossroads: going back to school, deciding whether to continue with psychology or become an RNGo with what interests me or just go with what makes more money ?In need of occupation/career suggestionsInterested in everything18/m graduated high school. What jobs are there that I could work outside in, be active and not require alot of schooling for?I am putting my soul into this post. Help.Feel guilty for taking 4 months off after MSc degree...What would be the middle-ground works in between politics/power (lawyer, politicians, CEO) and art (artist, philosopher, nurse)?In Insurance, want outHow can I help spread a Taiwanese social innovation/citizen government movement?I need some help. What are some good jobs with no degree necessary. Please read.Was the subsistence living way of life the lifestyle humans should have stuck with?Life is moving too quickly and I\\'m stressed at 15Math is keeping me from going back to school.Any career suggestions24 College Graduate No Idea What to PursueIt\\'s so hard to figure out a career!I\\'m 24, have a social work degree, currently work as a sub teacher, but I don\\'t know what I want to do longtermAfter the most recent fires and evacuations in Norcal, I think it’s time for me to move out of California. What’s the best strategy to start new in a different state?What the hell am I doingShitting on my dreamsPost-Grad plans for a microbiologist ...Mental healthShould I go live in a foreign country or try to get real 9-5 job?This isn\\'t me and I hate it but have no idea what to dograduated graphic designer / now ski instructor & whitewater rafting guide. what do i do next?How would I know if I like teaching? Am I qualified to teach?In case I change my mind about dyingJob for a Psych/Communication majorTeaching kids social/emotional skills?Taking a job with 75% travel? Is this the right path?Advancement, but how?Stuck in office coordinator rolesI thought I had it figured out. Went to marine corps bootcamp, got injured and medically discharged. I am now lost and don’t know what to do12 years of pharmacy tech experience, I\\'ve maxed out of earning potential.Lost 26 stuck living at home. Unemployed No debts Want a career in technology.How do I get out of the restaurant industry?I don’t think there is anything left to type into google.. so here I amI want to study but I don\\'t want to leave my familyFeeling lost.Careers in taking stuff apart and putting it back together?Lots of interests, not sure how to combine themA social tech job for extrovertsThe dark secret that everyone tip toes around that is keeping you STUCK.I’m having a crisis in my life, feeling like it’s only down from here.Are there any jobs that include creative writing, physics, and technology all in one?For young adults does it seem far fetched to get married, have kids, and buy a house?I\\'m lost and unmotivatedDo you think people are questioning themselves no matter what job or amount of money they have?How can I make a living with my passions?What can a degree in physics be used for?Where to go after facilities / operations management? (30+)At 30, Changing career/Starting to build a careerHow do I build a website for the company I work for?How do I improve my life and situation?26 year old job hopper w/ no degree[23M]Dropping out my studies to focus in what I really like and is starting to give me money25 and need a change with no idea how to startWhere to start for journalism/writer career?Aged 30, basic education, significant health limitations. At an absolute loss for finding suitable work.Is there a point where you stop worrying and finally feel like you\\'re headed in the right direction?Spiritual and psychology oriented career29 Suggest a PATH for me, based on flower diagram! (What color is my parachute?)Best way to make sure you’ll enjoy your career choice.What should I do?Does anyone know of a career that would suit my requirements/personality?27 and feel like I\\'m losing myself mentallyI wanna produce educational content, no idea where to go.23M seeking guidance in selecting a career(Finance or Computer Studies)23, semi-college grad, graphic designer, computers make me want to blow my brains out, please helpJob, business or school? 28 y/o left my business at home, immigrated to the UK, and have no idea what to do next.25 and extremely lostLost... schooling isn’t an option financially even if I did have a clue about what I’d like to pursue. 23 year old step mom here.22, Engineering student interested in investigative careersAstrophysics vs Mechanical EngineerAdvice?tattoo artist vs beauty school?What are your thoughts about working abroad vs. a career?Help us come up with career ideas!25, dazed and confusedCareer between Law, Acturarial or Data ScienceI would like to pursue a job in research, specifically relating to drugs.I\\'m so lost as to what I should study in university28, graduated college twice and still working in restaurants. I don\\'t know how to get out of this wormhole.Social Media Management/Digital Marketing skills to learn?Is it normal to do a PGCE course and not go into teaching?Introvert bartender feeling like the proverbial \"fish being judged for his ability to climb a tree\"…What (income) can be made from a Facebook page with over 20,000 likes?What would be an ideal job role for me?Trouble choosing a specialization for management degree22, graduated with a Math degree and minor in Business Foundations. I love computational work, my favorite class was Calculus and I have no idea what career to go towards.30F, hate my office job, still/back in school, should I be a bartender in the mean time?Low GPA University GradDo you need someone to talk through things with? Whether its mental health, career, or anything else that\\'s on your mind, I\\'m here to help.Not sure what do with my life (19 year old)I hate the field I\\'m qualified in. What should I do?Do most people experience the quarter life crisis?(24F) I have an Associates degree in healthcare...is working online from home in the healthcare field possible??!What can I do with extra time??Any job where I can work with my hands after getting a major in French?MechSoftware engineer with a quarter life crisis and no job prospectsWhat the hell am I doingSenior in high school, what careers will challenge me and make me grow as a person?Construction Project Management as a femaleCareer consideration when you have self-esteem issues30/PA, never had the ability to go to college, would like to go for enviro science, but no idea if it\\'s reasonable.Driving jobs that involve long freeway travel other than semi driver?23 F, deeply regret my College choice and feeling lostLost. How to get into the media industry?29 and still don\\'t know what I want to be when I grow up.Im interested in psychology and Id like to help people, but I dont know what I can do after studying (which I havent started)26m have mild aspergers and im not smartIs Health Education Major a good option?Couldn’t handle the stress and pressure of teachingIn a new city, can’t find work and feel like I’ve fallen so farDon’t know what to do next in terms of career advancement.What would be a high paying job for bio graduate student that I could look into in Europe five years from now?When you finally figure stuff out does it feel like a huge weight has been lifted off your shoulder?What to do when taking a break?Does it make sense to go back to school?I have 2 interests that I\\'m passionate about... how do I choose which one to pursue wholeheartedly?Careers in Architecture/Building SciencesI have a passion, just don\\'t know what to do...(26F) Long-term unemployed with a bachelor\\'s degree, I want to get into videography. Don\\'t know how to make it real.help me with my young life crisisMidlife crisis not getting anywhere in life.Careers with a good work-life balance?23M, graduated and employed but looking for a different lifestyleI\\'m in grad school and changed my mind[MAJOR] History major not sure if I should minor in non profits or poli sciCompletely lost, looking towards joining the military.Need a path for my MOTHERHow common is for millenials to go on a long road trip or do some \"Into the Wild\" type thing?Does anybody feel they have a conflicting identity?22F, BA in English and History, not sure where to go from hereBest way for people with low IQ with 0 talent and skill to be rich is only selling organs?[24] Is a master\\'s degree the best way forward for an applied math bachelor\\'s degree?Considering a College Major Change from Accounting to CS as Transfer StudentFamily Business or Software EngineeringFilm production vs backups in lifeWhat are 3 questions everyone should ask before picking a career?Graduated college with a CS degree. Not sure if i\\'m on the right pathConfused on my college major choice... did I make a mistake?Can somebody recommend me any degrees that are good for \"sort of\" developing counties?Should I study Psychology in Egypt or in the US?20y no clue what to do/study.I work in manufacturing, with no education. I want to do something creative, but can only spend a year in school.What are some things I can try with my interests?Time is high but my skills aren\\'t24M, unemployed and looking for work in digital marketing[24] My old bachelors is worthless, and I want to work in game developmentDo many of us have the idea that a certain job title, salary amount, and material possessions is the route to happiness?I\\'m looking for a few paths, help me plsA friend of mine suggested a post here, since I\\'m on reddit all the time anyway, and I am kind of stuckI wrote an article about the very first steps towards starting a career as a creative!What STEM career should I go into? and looking for Advice on Software Engineering?Passion vs. a tradeLobbying or consulting for tech firms?What should I be working on?need advice on what to do. (dont really know if this is the right sub but its close enough)Is it normal to feel like there is no attainable path for me?Does it feel like you haven\\'t made much progress in life?I need some examples of jobs that are nothing like you expected.Is it common for college grads to go a long time even years being unemployed?[Question] On Journalism as my Social Media \"outlet\". Looking for Possible Constructive Criticism.Work in customer service for a health insurance company, what other jobs could this experience be relevant for?What\\'s the biggest roadblock to finding an enjoyable career?Keeping on through...Halfway through my first semester of grad school. I\\'m absolutely miserable and would rather be miserable and earning money. How do I find a job?I took a completely new turn, and I\\'m not really sure where I can go from here.What can I realistically do with an associate\\'s degree in IT?I have an associate\\'s degree in secondary education and no longer have any desire to teach... What should I do with my life?Europe, almost 28, MA in English Applied Linguistics, feeling kind of lostGetting a job with an international organizationAbout to graduate with a BS in Physics but don’t feel passionate about it anymoreHow mad is a multidisciplinary degree really?Tired of shitty job, want to do something, anythingDropping out of college, I feel lost...I feel stuck need guidancePlease, please give me some Hope on this crazy pathCareer path adviceAccounting or Finance major?Help getting my plan defined in realistic terms.Could jobs that look cool from the outside actually be terrible?Recent Graduate in Linguistics and Politics/IR looking to enter TechUnemployment sucks, employment sucks even moreA little help if you wouldNHS Switch Board Operator (Call Centre). Fixed term contract since Feb 2018. Help.Resources for someone interested in a path in computers?What paths exist for those who aren’t academically inclined?!I have a first class honours degree in Guidance and Counselling with Childhood studies - I have been trying to decide for too long whether to pursue a career as a psychologist or counsellor/psychotherapist (UK)Super recognizer and critical thinking High School seniorBachelor\\'s degree in Marketing, steps to become a Nutrinionist?I’m about to get my associates in Business, i’m looking to transfer to a more prestigious school and get my bachelors there, but everyone asks me what I want to do for work and i have no ideaDoes the quarter life crisis eventually end?I want to work with Hispanic youth and their families, preferably in a school/community setting. Is social work the way to go?Want to work online. Please read!Feelin really lostWould Computer Sciences be a good major for someone who feels as if he has literally no interests?Finding a path in remote work?What to do with my life?Getting a research focused job?Jobs paths around gamingVery unhappy in my current path. What career can I have with my current skill set?I\\'m looking for a few pathshey, help me. i want to change my lifeWhat should I\\'ll do with my life?Any Emergency Services Dispatchers In Here?I\\'m feel paralyzed and don\\'t know what to do.Graduating college and feel totally paralyzed. Please help!What kind of work would go into opening a gaming shop, something with TCG\\'s/tabletop gaming and PC gaming?People with a career! Or who have chosen; what made you confident in your decision? Are you afraid that your passion for that path might dwindle ?Not sure what to doA/V progamming or similiar avenuesIs anyone in Human Resources that has gone to school for it in Canada? Can I PLEASE pelt you with questions?How to work for a space agency?? I. E NASA, SPACEXMasters in Education: need ideas pleaseWent to law school and was miserable, decided to follow my passion instead and now I feel kinda lost.After 5+ years as an electrician, I\\'ve decided construction isn\\'t what I want to do forever. What career paths are out there?Bipolar 1 and suicide attempt on record, where can I realistically get hired?Kinda found a path, but struggling a bitJapanese Major, Reconsidering LifeIs this a completely idiotic decision or am I making the right move?In College and struggling to find a path21, thought I knew what I wanted... not anymore.What jobs can I get with my experience as an assembly worker?What specific jobs might be right for me? (Zoology/Ecology/Biology/Veterinary)Lost & feeling hopeless19/US worried about careersI started my grad job. It isn\\'t what i expected at all. Really not sure what to do. I feel lost27, Phoenix with clipped wings19 Years old. Stuck between money and happiness.Pros and cons of being an Ultrasound Tech and a MRI tech27/ no degrees/ only ems experience/ loserIs there any correlation between programming and linguistics?24YO - Super lost in the middle of a life transformation incl. job change and a big move. I may have to change jobs again but I want to actually like what I do and not be so damn miserable anymore. I have no idea what jobs like THIS look like... HELP!Any advice for a senior?25 and Want out of the Warehouse Gig59/f, 25+yrs Exec Admin, coming off 3yrs fighting cancerWhat can i do with a masters degree in literature?I am horribly lost at the worst time possible.I\\'m about to graduate in physics, but I don\\'t like physics anymoreGeneral life advice - major, after college31/F Administrative professional with a chronic illness who wants to go to school.I (23M) am a philosophy graduate who has been stuck in retail for 2 1/2 years since graduation. Feeling a little hopeless but know that I\\'m not destined to work there for the rest of my life.I assume this is the right subreddit for this: I’m done just done with school is there an alternative?I (19M) graduated high school in 2018 and have no idea what i want to do next.Advice: Major and Career (Business or law)Business oriented with no passion for anything but entrepreneurship and making money. Don\\'t want to go to college because I\\'ll be in debt and because I go crazy sitting in classrooms too long.(19) not sure what to pursueJust graduated and frozen on choosing a direction22, Computer Science Major, and Feeling LostDo people\\'s dream job ever turn out to be something they hate?Why does everyone feel like they need to go to college immediately after highschool?(20M) I want to quit art because of money.Following dreams while being realistic?Please i need advice.29m looking for a changeWhat’s the best process to use to choose a career so you don’t end up hating it?Contemplating a law degreeThe Myth of Finding a Job You EnjoyWell paying, creative job with very flexible schedule? (NO 9-5)23 y/o dude who has spent the past 4 years floundering in community college, ready to make a change and I need helpHard resetGetting a job in the IT fieldWhat are some comparatively lower-pressure jobs where a college graduate can just land for a while?What are some careers I can do based on these things I enjoy?What degree do I need to study cPTSD, MDMA therapy, and meditation?What extra training can I get to make my Sociology B.A more viable?A route for a confident social fellowNeed help brainstorming career paths/graduate programs.Is a masters worth it for me?Need some help figuring out what to do with my lifeEvery major I take interest in usually leads to a dead end and I\\'m a little lost.Is it common for young people to leave big cities because it was too much to afford?High Paying Remote Marketing Job In EuropeI hate my jobRoyal College of Surgeons in Ireland: will 860€ a month after I graduate be a crippling loan? How is the salary of an intern?Do you feel you should stop looking for your passion and just do something and see if you like it?Need suggestions/adviceAt a crossroads...looking to get into HR.Thinking on what to study and need some advice.Because I need some Motivation. Can someone please tell me there success stories with going back to college? I dropped out three years ago as of November and I\\'m starting school again in a semester. I\\'m nervous I\\'ll flunk out.Ideas to follow passion?I want to be Lisbeth Salander/Background Investigator...I want to work as an electrician in hurricane releif areasWanting to get into animal behaviour researchHelp me find a careerIs sociology a useless degree?How to get motivated22M going on 23. I’m starting to feel my motivation fade the longer I stay undecided on a career path.Really have no idea18M, College student, Incredibly distressed about short-term and long-term futures, would like advice for eachAnother night spent ruminatingBusiness degree with experience in management and sales. Looking for a skill to get into, possibly programming. PLS HELP!Do I have a future in Banking?How important is it to work towards a career at 21?I’ve been cursed with having too many interestsI\\'m unsure of where to go with my political science degreeIm 28 and Im so lost in life right now. Can’t find a job I like no matter what I do. Need guidance.What do I major in and what should I do to achieve my dreams?New career path?Good temporary, local/remote, part-time jobs while applying to grad school?I\\'m so lost and hopeless. Struggling to figure out what I want to do with my life.What Sets Your Soul on Fire 🔥Dad wanting to start new, less physically demanding career.Do careers like this (food science, agriculture, sustainability) exist?We interviewed 6 people in tech and made this handbookI\\'m sick of marketing and the corporate world. I want to do something I care about. What next?Does this exist??I’m stuck in a career path that I hate.Dont want to do anythingLost in more ways than one, looking for a fresh answer. I\\'ve listed some things just sitting here on my phone. Read if interested!What do I do next and how?What trade to pursue?Did you ever have a dream to do something, but then lots of reasons not to?I\\'m tired of Sales where should I go now?Medical sales entry level job?I have no idea what to doTorn between a few very different careersEx-Teacher, moved to a new city, big crossroads and no idea how or where to go from here.I just got a useless degree, what now?Unsure of future and burnt outMotivationUnsure about my chosen career pathMoved and now lost?25 years old, too many interests, and entirely stuck.Feeling lost and don’t know where to turn. Let me, a transformational coach, ask you one question.I want to do something with my multilingual skillsConfused...Picking a MajorCity management career path?Found my interests...don\\'t know how to achieve them.I self-destructed my career and I don\\'t know whyAre there any jobs that almost exclusively focus on C/C++ programming only?Any suggestions for someone wanting to be a mathematician or quant?Bachelors in Biology, currently a pharmacy tech. Dont know which direction to take nextPsychology Career PathwaysBasically wasted 5 years in college for a management degree. How have you found learning to code on your own?[26F] Feeling really, really lost on my current career path (computer science).I\\'ve got an engineering degree, but want to do something more practical as my current job involves being sat infront of a PC all day.Also questioning life lolM20 Help me find my way!Bachelor of International Studies, Majoring International Relations and Spanish. Am I wasting my time?Heavily considering dropping out (Pennsylvania, USA)Any PA or other medical professional insight?How to unstuck yourself, when you\\'re stuck trying to find your passionComp Sci: College Major Help?Everything is perfect. What should I do?New Career at 56/What color is my parachute[21F] Have weird interests but no idea what to study.What are all the types of engineering?[30m] no consistent career or job for more than a year, and I cant find focus in one path at all. programming to datascience, to english teaching, to cafe owner, I have no idea which path to take, or where to begin.Hey there. 18M and unsure of what to do in life.What can I (22M) do in Biology that doesn’t involve grad school?[18M] Good news: I\\'m going to live. Bad news: I don\\'t know what to do with my life.Is anybody here actually a person who was lost, but then discovered a path later in life?26m I hate my job so fucking much ahahahahahahahahaHelp choosing my skills?[16F] High school student that loves art and has no interest in anything STEMAlmost 23, College dropout with no work history(complicated)What should I do for the year I have until I go back to school, should I take the promotion my work is offering?How do I get on a path going up in life?Environmental careersDon\\'t know what to doArt jobs where a degree in mathematics would be useful?After 3 attempts, I am finishing Capstone and I ain\\'t that good in IT anymore, want to go in the esports industry, help?I honestly don\\'t know what professional job I want to do.I’m looking for trades that take about 6M to 1YR to complete. Maybe longer.3 unemployed guys (around 30 years old) trying to figure out what to doIs there a site that is more helpful for real entry level jobs?20 yrs old and still struggling to figure out what career I wantB.S. in Math, minor in Art History. I Just Want to Make a Difference30\\'s...Never had a 9-5...Now what do I do?24/F Stuck in food service want to get out20F, AA in General Studies, considering Polysomnographic Technology but not totally sure. Looking for a career that makes decent $ but that I don’t need a bachelors for.What are my options as a Software Engineering whose biggest interest is C++.[advice]I don’t know if this belongs here. Just got a plumbing job offered for way less pay then I’m making now, but, there’s a catch...Was headhunted for a new role and the company have changed their mind. I\\'m confused.Career advice for someone who is primarily motivated by a love of learningDo you have to want to help people in order to find your path in life?A have big passions that I\\'ve always dreamed of turning into careers, but I\\'m unsure of how to do it. (19f)What advice would you have for someone who is graduating college soon with lucrative majors and is still unsure what to do?PLEASE HELP : desperate biology major college student seeks adviceShould you listen to your parents?Aspiring Filmmaker (18 M) - Am I doing the right thing?I am a teenager that is looking for something to do as a career. What is your profession? I’m just looking for ideas.(23M) Is coding still a good field to get into?What\\'s a good job for someone who is obsessive?What Should I Do?Is there work for this?I get bored quickly but have worked many different jobs in one discipline. These jobs were very regimented. What\\'s a job that does something different on a weekly or daily basis?Want to work in maintenance but no experienceCant join the military due to autism what else is there?23 years old with no career plan35 years old. Zero passion. Zero education.Maritime Engineer or LinemanI\\'ve been working in retail for over 5 years now and I want to get out of it. How do I get out?20yr/old Physics and Applied Mathematics Major but no idea what to use it forHaving panic attacks while needing to choose path, now choosing between being a surgeon or artist. Could you guys help me out a bit?Going a different path... need advice17 year old, no clue what to do for my majorA career in helping immigrants assimilate/helping immigrant kids in school?19 years old, 10 years experience drug dealingI\\'ve found my path! I\\'d like to help you find yoursJust turned 34yrs old, been trying to find a path since my early to mid 20’s. I’ve gotta do something soon!Job Vs College (Software Engineering student regretting the career choice more everyday).Looking Into My Options23..no idea what I want to do40 year old looking for a new career direction.Career Search!Stop trying to find your passions!15 years old, pretty much lost35yo new mom need a new career18 y/o Looking to turn my passion into a career. I don\\'t know what my next steps are.Do you need someone to talk to about your mental health, issues with your path finding process, or just talk to in general?There are no correct or incorrect decisions. It\\'s all about acting on them and the long term quality of the decisionsWhat the hell did i do? Wasted a bunch of life and time... And what the hell do i do now?19 year old who really needs career guidance.Which career path should I prepare for? (Neurosurgery, Dentistry or General Practice)Weird and Random Background- Any tips for jobs/career paths I might be a good fit for?Experienced 26 y/o Data Analyst with Scientific and Artistic Interests Looking for OptionsExperienced 26 y/o Data Analyst with Scientific and Artistic Interests Looking for OptionsAbout to finish my associate degree in psychology, want to pursue something more useful for my bachelor degree, but I have no idea what degree to pursue at a four year college. At this point, i am now thinking, is it better to have a bachelor degree in anything than nothing?What do I do? How to stop feeling this way? Should I just go back into retail?I feel like I screwed up my career and now I might be running out of time, I don\\'t know where to go from here?Teaching Meditation to Students21 y/o with few skills looking for better paying jobs than min wage?I feel myself improving but I still do not have concrete plans to meet my long term goals[Career] Would like to do something Artistic..I\\'m stuck in a city I hate in a career I hate. I know what I want to do but don\\'t know the best way to get there.Pretty stuck at the moment in my life and need to find a way out.18 (F) mentally exhausted and lost, Is it worth the fight?A new podcast to help everyone beat the Sunday evening bluesAdvice on what medical school in the UK to choose?From Desktop Support to Software Development, I think IT is just not what I want anymore and now I just don\\'t know what I\\'m doing.Moving forward again finally.22 yr/female - Very inexperienced, unsure, and not sure what career is right for me or what steps to make? (Long post)How do I shift to a career in Computer Science after graduating with a degree in Mechanical Engineering?Completed \\'What Color is your Parachute\\' Flower Exercise - Now What?I want to work with people, work outside, while still making a decent living.I\\'m lost career wise and I miss my family.First job out of college and already wanting a move. Where should I look?31, Looking for a meaningful career changeHelp... I\\'m looking for a purpose!Jobs that aren’t 9 to 5?Going back to schoolIn a State of Purgatory and I Need Help to Find MeaningDon\\'t want to go into tech anymoreWhat am I supposed to do If I get discouraged from almost every career path?How to get a scholarship?I forgot how interesting I was...jobs in marketing that don’t require me to sit on my butt all dayMoving soon(-ish), little work experience, what are my options?Here I am, in a hurricane’s eye21 year old slacker with no direction . Send help.Confused in finding a right career path ?Art history major - alternative employment (x-Post r/careerguidance)Amazon seller managerLeadership Class turn into a career?26 no degreeA life coach but not so broad (23f)21 M Should I leave college?I want to create mobile game bots, how should i start?Opportunity without directionHigher EducationProofreading/Editing JobsRethinking psychology majorWorking in Prisons as a Female PsychologistWant to go into the healthcare field but don’t know whereBurnt Out Teacher [26F] looking for a new career path25(M) looking for new career. No college degree but lots of various work experience.Need someone to talk things through with?Does anyone have an interesting or unique career?Too many options and no idea where to goI [30F] am just finding work too stressful for some reason.Help me figure out what I’d like to do?30 years old, terrible at math, electrician?A post for those who feel pressured to go/be in college but are unsure about their degree.Should I find a different career and give up my dream jobConfidist.com | Come have a conversation about your life path[25 M] looking for a career where I’m on my feet all day. Any suggestions?I considered lots of jobs or majors and none of them interests me. I just want something physical and less of microscopes,offices,writings,i hate math!!!! I\\'m extremely curious of nature. I love crafting stuff, working with bare hands, observing nature/animals.Droupout for Youtube?I have never worked in my lifeWhat to major in for the FBI/CIA?Directionless and dispassionate about any job prospects I have. Is there anything I can do with my degrees that might be an interesting change of course?I want to be a florist, here do I start?[M 30] wanting to go back and study medicine at grad entry but have dyslexia and possibly ADHD.19F and I hate the idea of having to work 9 to 5 for the rest of my life, but also feel like some career paths are already closed for meCan I make a good living as a barber?Super enlightened gladly assimilated peon seeks optimal employmentWhy makes people smart at standardized test and academics, but stupid in real life?Technically knowledgeable but not in a way that is recognised by HR folks or governments eligibility requirements. What can i do about it?I don\\'t want to work in an office, what are my options?If you\\'re in your late teens or 20s and feel like you\\'re lost, don\\'t know your passion, or falling behind your peers, read this.Quit my job a month ago, coworkers ask why I quit and it\\'s awkward.As a 22-year-old\\u200b university student I feel incredibly miserable; How did I dig myself out of this vicious cycle?Another 24 year old with a quarter life crisis that doesn\\'t know which career to pursue(17F) Not sure what B.A. to get for an MPH, epidemiology concentration20F, school 3 different times still no luck. What next?20M 3rd year Mechanical Engineering student, hate engineering and failing college, please help, what should I do?In need of a good career advice!Lost and confusedRecovering from a screw upIs marketing/advertising a good career path for me ?Looking for insight on possible career pathCareer change advice28yo don\\'t know what to do, feeling trapped and hopelessLooking for a new directionSenior in high school, no clue what to major in.21f lost and not sure where to go or what to do losing hope.What job would you recommend and why, to someone who doesn\\'t know what to do or which job to try?26, AA in English with the vaguest path idea25. Don\\'t know what to do with this job offer. Field change. So scared ):Mental exhaustionPerfect job for Suicidal people like me( NSFW)I have a 6th grade education.22yo, I feel like my life is already over and there’s no hope for a decent future. Am I doomed? Should I give up?I\\'m 16 and feel like I have no options after HS28, I don\\'t like Graphic Design anymore, feeling like I\\'m back at square one21F immigrant at the US, my dream life doesn\\'t involve a dream jobI\\'m 18, Freshman in College and I don\\'t know what to do.Teach ESL in Beijing or Changsha ***PAID UPFRONT airfare and FULL COVERAGE of document and Z-visa related expenses***I thought I was an artist but I really don\\'t know anymoreI really want to work for myself after inheriting a good sum of money - but what do I do?SO confused abt lifeWhat is a good major to pair with Spanish?I love him but I want to be free23 years old. I have no idea what to do in life. I feel like I made a horrible mistake with choosing my college. Thinking about taking a gap year or dropping out completely or maybe study something different... Im clueless and its stressing me out.Animal shelter when scared of dogs?23 years old. Working full-time, school part-time. Not sure how to move forward.Is this a good career plan?21 year old in college. A bleak outlook on what I should do after27 years old, ex military, and really need help finding a path. Feeling like I am reaching a breaking point. (An Extended ramble)18 years old, going to enlist for compulsory service, don\\'t know what to do after that.Didn’t think I’d make it this far, and now I have no idea what to do with myselfWhat to do when ending homeless and starving to death, seems a better option than having a job?Love the theoretical aspect of nursing, but can\\'t stand actually working as a nurseIs it possible to pursue multiple careers/paths at once?Quit job to focus on side hustle but need to keep a roof over my head. What work should I consider?what career should i pursue based on my interests?Lets raid heavenDoes anyone feel like the possibilities are endless?Is JET or another \"go abroad and get paid\" type of program worth it, given student loan debt?I’m 23 and I’ve been working the same FT job for almost 4 years and it’s killing me.No idea what I’m doing with my life 20yoI\\'m 25 and I will need a career/job change within the next few years; feeling pretty lost and indecisiveHow can I become a diplomatIs being a lawyer a feasible goal for someone without the highschool marks?I want to be a leaderGraduating from HS in January. What can I do with the rest of my year? 🙏Jobs where I can work with animals?What are some careers that afford you freedom and good pay?29M, need suggestions to switch to a meaningful job, preferably in Engineering (Not keen on earning)Graduated in May this year with a Communication Studies degree. Still working retail. Feeling super lost. (22F)What do I chooseRecent College Graduate with a Business Degree but feel like I wasted my time and am lost.Currently working in manufacturing but want out.26F - graduated college with a mediocre GPA, working a dead-end job ever since. Want to get a different degree, but not sure I can get into any programs.I have no idea what to do with my life :) (Major)I did something I felt was stupid and wanted to vent about itHelp16M, where should I go after HS? Is there any tips on being financially stable?I’m a senior in high school, and engineering has always been my passion up until this point. Kinda worried about the rigor of the courses. I want to work with electronics in my career, but I’m not sure what I should major in.Mid Late 20\\'s engineering background with a passion for travel and adventureLost like everyone else here.Career/job suggestions for a 26/M?PhotographyAt an Educational CrossroadsHow do i find a career(ish) and keep my values?Lost Uni StudentEducation for developing musical gearCentering my career on readingI need some suggestions!!I’m a failure what do I do now23 year old lost on this path we call life. Spent 4 years at community college, 2 degrees. No clue what do in life.I’m worried I may be wasting my time in college.I need help.would like some recommendations for fields I should look intoFeel completely lostI wanted to go into agriculture, but seeing relevant job listings makes me feel like an expensive degree isn\\'t worth it.Feel stuck and don\\'t know how to move forwardMajored in Criminal justice, but now realizing that my dream careers are unrealisticAm I/Will I be left behind?Remote coding jobs?Comp eng student who\\'s interested in data analysis/cybersec, scared/doubtful about my future.I was going to go into Wildlife Biology, but it\\'s so far off and I wasted so much time.Have a bachelors in marketing, no idea what I want to doI hate my job..I\\'m in my 30s and too old to do anything elseJust got my bachelors in psychology. I was told not to apply to graduate programs, because my grades aren\\'t that great (3.1 GPA). Now I am set on becoming an electricians apprentice.[25 M] meter reader or Best Buy?Give me your wisdom22 and without passion.Best online part time jobs?Is it worth making a career out of programming/developing/disigning video games?Education in Graphics and Advertising want to pursue a career in tradesList of 26 best places to find remote jobsMy typing speed is 120WPM, where can I go from here purely utilizing this skill?Jobs in schools?I\\'m a creative introvert, working in a loud factory. My neck & back hurt and I\\'m constantly clenching my teeth. I just want to create. Please help!Dont know what I wanna do with my lifeI\\'m a 20 year old aussie guy with so much potential yet no drive, any help?Accounting to healthcare?I\\'m doing terribly in college and I just don\\'t know what career to take...i don\\'t know what to do anymoreCreative career paths??INFP feeling lost and stuck!Successfully transitioned from Elementary Ed to Corporate Training. But need advice on where to go from here down this new path.I want to open a business26/M Looking to get out of servingDont know what my path is anymoreRandom life skill into a profession? In-person facial recognitionHow do I re-educate myself?SAM looking to return to workforce[26M UK] A bit lost.20M, when does STEM get creativeRoles that will help develop my communication skillsHow do people just hit the road?27M seeking advice, completely lostAlternative to a master\\'s in Computer Science?New app ideaI want to cry I am so happyCareers without a degree?25M, Bachelors in Accounting / Finance, hated every job I\\'ve doneCan\\'t join the military don\\'t really want to be a cop. What else can i do?I’m 19 And college sounds fun I just don’t know what to study (community college btw.)I have no Ikigai25-M ; I feel like i\\'ve wasted 6 years of my life.Careers in finance that’s not heavy in accounting?It\\'s that time of year... grad school applications!Lots of Skills and Interests, but not sure how to go for them or what to pursue.Late Starting Remote or Hybrid JobsDepressed, between jobs-- How do I prioritize tasks and figure out what I want?22/m. No education. No job. No place to live30M USA- exploring careers in remote/international contract work (seeking advice/suggestions)I put myself in a corner and feel trapped.Law school or full on hippie?I’ve been told I should do so many things over the years that the inability to pick one haunts me30 M, Lost and ConfusedA platform for online career counselling to find your career pathI am completely lostShould I Just Write a Book?What is a good career for nosy people who love to research?Bad decisions have kept me out the gameOne of the most unsure person everSo, You Wanna Be A Broadcast Journalist?25 y/o, currently working as a Tech Recruiter for a Fortune 100 company in Seattle - can\\'t stand the corporate culture. Entertaining Law School possibly, but nervous and hesitant. Would appreciate any and all advice from you kind people.21m. I know I\\'m young, but I\\'m lost.Ex law-school atendee, now lostHelp me find a direction-24 F, accountant looking to change career19/M I want to travel the world, photograph different cultures, learn from them, and tell their stories.23/F Recent Graduate Working a Job I Hate & Not Sure Which Path to Take\\U000e01f0\\U000e01f0\\U000e01f0\\U000e01f0I dropped out of high school - Can I still join university?24 year old filmmaker asking for advice. Should I quit my 9-5?I\\'m a third year university student in International Relations, I think I want to be a Doctor, I fucked up my life.Bachelor graduate, recently landed a position at a top 10 investment bank worldwide. Want to become IB analystI\\'m 24 years old and make 30K per year. Am I on the \"right\" path?To those who love your job- when did you know?23 y/o in financial tech/merchant services thinking I want to go into financeWhat can I actualy do to make a difference in police corruption/abuse?29 I feel like I\\'ve taken every class community colleges have to offer (definitely math, science, physics) currently at CSUS a year and a half until my bachelors but I\\'m applying to nursing schools but my GPA is a 3.5 because I\\'ve bartended for 5 years and have perpetually been tired by whole life31/F, currently a medical courier. I love it, but it doesn\\'t pay well. How can I find and then train for a well paying job? (36K and up)Environmental science / Environmental health careers22 y/o medical tech, love art and science. Opportunity to fund further schoolingIs it typical for people to re-do their whole undergrad education after graduating?I want to switch jobs, but my boss wants to invest in training medown to one class this semester, struggling with mental health & deciding on a major/careerI‘m 18 y/o and trying to figure out how to forge my futureQuality Control/Welding Inspection Contract Road Work. Struggling to find my way. Looking for advice from people who have taken this route.28 years old, working in recruitment. Trying to make a switchAdvice getting into public speaking and/or speechwriting?Best/most interesting trade jobs3 Considerable steps for making right career decisions ?Would you consider doing a gig for 3 years with no growth but huge amount of money[HIRING] K-12 English Instructor for Someone Who Just Wants Something DifferentI\\'ve put myself in a really bad position and now I\\'m miserable. Don\\'t know how to move forward.F**king depressed M / 34 / Single, no friends nearby, owe money, no prospects, living in the worlds most expensive city - SydneyWhat are my options for a career without college?How did you find your occupation? Looking for better ways to find one that I will enjoyCan I make more as a software engineer or union electrician?I want to draw webcomics but unsure how to properly get trafficNo friends, no GF, no career, 29 years old living with my parents with. But I\\'ve got $70,000 available to me...A life of two paths2nd Year Industrial Apprentice Electrician, looking for a new job around Austin, TX but I\\'m stumpedSeeking advice, mid-life career changeHow did you go from feeling lost to being successful?Which career path that involves teaching/advising and pays decently well besides being an University Professor?I need to do more to improve my current situationSenior in High School: I want a career I will enjoy (long story)26 yo mechanical engineer. Hate my career and my major. I want to change careers but I only love writing and I barely have enough time to write after work. It\\'s exhausting. I feel completely lostLooking for something maybe like programming, but not...23 - I feel like I\\'m constantly doing things I don\\'t want to do in order to create the conditions to enable to do what I want to do.I want to open my own bookstoreSoon-to-be Business Grad is entirely lostStay in uni or not? Is a degree worth that much anymore?I have five kids and I don\\'t know what to go to school for24 2nd year biochem grad student, feel uselessExtremely confused about what I wantOne of the most Amazing 10-tips video I have found in the internet, change my mind!25M - Creative dude at heart with a tech background23, been in college for five years, 20k in debt, 2.5-3.5 years away from graduating. Absolutely lost.Currently in school for nursing but want to be animatorI\\'m completely fucked, I need extreme luck and new pathAs a 10 year UPS Hazmat Auditor, what else can I do?Feel lost in life23M Bachelors’s from Ivy and Master’s What to DoHow could I set myself up to work remotely within the next 2-5 years with my current experience?Soon to be college grad, looking for possibly seasonal or otherwise flexible work in the Southeast region of the US.18Y/O Choosing Between different computer related pathsHelp with a career choice/ HELP ME FIND A PATHCareer paths for Chefs in AustraliaI love math but I don\\'t want to be a teacher or an actuary and academia seems unattainable!Is it possible to go into a STEM major (computer engineering) with no/little experience in that?Should I pursue a career in AnimationSeeking a Career Change - Renewable Energy or Sustainability18 sick of 9-5 trades and lost, want a career in YouTube/twitch gamingI feel so lost and directionless. [Education] [Career] [Life] [Romance]Trying to think of a job where you can work 30-32 hours in the weekWanna Be WriterAny and All Help would be GreatI can’t decide what I should go to university forTrying to find remote working opportunities/ideas!Looking for a career which is not typical boring office job and not all about making money.Considering not going to graduate school and feeling very losti\\'m fricking out and decided to see if someone here may offer some adviseJob title for this sort of work?Looking for job where I can make stuff, work on projects, and solve problems.I need honest advice. I\\'m about to be 21 and am moving to Tampa, Florida in six months. Im in retail management and want to find something else interesting that pays decent while I go to school. I have many interests so any recommendations help.I\\'m looking for a field that pays $200k+, has decent work-life balance, and most of all is fulfilling and makes a clear difference.Next to finish a programming degree. Don\\'t hate it nor love it. Thinking of moving next year to study engineering or something similarDoes anyone know of a job that involves international travel in the Fashion or business industriesI want a mostly task-based job where I can work 4 days a week (\"four 10s\" is fine). What are some options?Looking for a career field that I could bring my dog to work.Been programming for 2 years, discovering it\\'s not for me. Looking for a possible tradeIt Takes CourageStart a career while being present as a momA job with nutrition, training, or anything in the realm of fitness that requires a bachelor\\'s degree.Tips for starting in the healthcare field'"
      ]
     },
     "execution_count": 72,
     "metadata": {},
     "output_type": "execute_result"
    }
   ],
   "source": [
    "df['text'].iloc[163]"
   ]
  },
  {
   "cell_type": "code",
   "execution_count": null,
   "metadata": {},
   "outputs": [],
   "source": []
  }
 ],
 "metadata": {
  "kernelspec": {
   "display_name": "conda_tensorflow_p36",
   "language": "python",
   "name": "conda_tensorflow_p36"
  },
  "language_info": {
   "codemirror_mode": {
    "name": "ipython",
    "version": 3
   },
   "file_extension": ".py",
   "mimetype": "text/x-python",
   "name": "python",
   "nbconvert_exporter": "python",
   "pygments_lexer": "ipython3",
   "version": "3.6.9"
  }
 },
 "nbformat": 4,
 "nbformat_minor": 4
}
